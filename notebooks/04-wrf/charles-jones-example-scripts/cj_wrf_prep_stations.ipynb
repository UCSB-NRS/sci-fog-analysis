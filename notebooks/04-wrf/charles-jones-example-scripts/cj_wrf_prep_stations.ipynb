{
 "cells": [
  {
   "cell_type": "markdown",
   "metadata": {},
   "source": [
    "## **Prepare station data: Channel Islands**\n",
    "### useful links #####\n",
    " - [markdown](https://www.ibm.com/docs/en/watson-studio-local/1.2.3?topic=notebooks-markdown-jupyter-cheatsheet)<br>\n",
    " - [cheat sheet](https://pandas.pydata.org/Pandas_Cheat_Sheet.pdf)<br>\n",
    " - [tutorials](https://pandas.pydata.org/docs/index.html)<br>\n",
    " - [indexing selecting](https://pandas.pydata.org/docs/user_guide/indexing.html#)<br>\n",
    "  - [resampling](https://saturncloud.io/blog/how-to-resample-a-pandas-dataframe-with-bin-size-or-frequency/#:~:text=In%20this%20example%2C%20we%20first,the%20string%20argument%20'D'.)"
   ]
  },
  {
   "cell_type": "code",
   "execution_count": null,
   "metadata": {},
   "outputs": [],
   "source": [
    "# Import packages\n",
    "\n",
    "import glob\n",
    "\n",
    "import matplotlib.dates as mdates\n",
    "import matplotlib.pyplot as plt\n",
    "import matplotlib.ticker as mticker\n",
    "import numpy as np\n",
    "import pandas as pd\n",
    "import scipy as sci\n",
    "import scipy.io\n",
    "from matplotlib.cm import get_cmap\n",
    "from scipy import stats\n"
   ]
  },
  {
   "cell_type": "markdown",
   "metadata": {},
   "source": [
    "## **Read data**"
   ]
  },
  {
   "cell_type": "markdown",
   "metadata": {},
   "source": [
    "**&rarr; Santa Cruz Island**"
   ]
  },
  {
   "cell_type": "code",
   "execution_count": null,
   "metadata": {},
   "outputs": [],
   "source": [
    "# RAWS data\n",
    "#  Santa Cruz Island\n",
    "path = '/home/sbarc/wrf/wrf401/channel/stations/'\n",
    "file = 'SNCC1.2023-09-01.csv'\n",
    "\n",
    "# ------------------------------------------\n",
    "dd   = pd.read_csv(path+file,skiprows=11)\n",
    "dd\n"
   ]
  },
  {
   "cell_type": "markdown",
   "metadata": {},
   "source": [
    "**&rarr; Santa Rosa Island**"
   ]
  },
  {
   "cell_type": "code",
   "execution_count": 27,
   "metadata": {},
   "outputs": [
    {
     "data": {
      "text/html": [
       "<div>\n",
       "<style scoped>\n",
       "    .dataframe tbody tr th:only-of-type {\n",
       "        vertical-align: middle;\n",
       "    }\n",
       "\n",
       "    .dataframe tbody tr th {\n",
       "        vertical-align: top;\n",
       "    }\n",
       "\n",
       "    .dataframe thead th {\n",
       "        text-align: right;\n",
       "    }\n",
       "</style>\n",
       "<table border=\"1\" class=\"dataframe\">\n",
       "  <thead>\n",
       "    <tr style=\"text-align: right;\">\n",
       "      <th></th>\n",
       "      <th>Unnamed: 0</th>\n",
       "      <th>Unnamed: 1</th>\n",
       "      <th>Millimeters</th>\n",
       "      <th>Celsius</th>\n",
       "      <th>%</th>\n",
       "      <th>m/s</th>\n",
       "      <th>Degrees</th>\n",
       "      <th>m/s.1</th>\n",
       "      <th>volts</th>\n",
       "      <th>W/m**2</th>\n",
       "      <th>Millimeters.1</th>\n",
       "      <th>Celsius.1</th>\n",
       "      <th>m/s.2</th>\n",
       "      <th>Celsius.2</th>\n",
       "      <th>gm</th>\n",
       "      <th>Degrees.1</th>\n",
       "      <th>Celsius.3</th>\n",
       "      <th>Celsius.4</th>\n",
       "      <th>code</th>\n",
       "      <th>Celsius.5</th>\n",
       "    </tr>\n",
       "  </thead>\n",
       "  <tbody>\n",
       "    <tr>\n",
       "      <th>0</th>\n",
       "      <td>SRIC1</td>\n",
       "      <td>1999-12-02T18:20:00Z</td>\n",
       "      <td>NaN</td>\n",
       "      <td>8.89</td>\n",
       "      <td>75.0</td>\n",
       "      <td>15.18</td>\n",
       "      <td>130.0</td>\n",
       "      <td>20.99</td>\n",
       "      <td>NaN</td>\n",
       "      <td>NaN</td>\n",
       "      <td>NaN</td>\n",
       "      <td>NaN</td>\n",
       "      <td>NaN</td>\n",
       "      <td>NaN</td>\n",
       "      <td>NaN</td>\n",
       "      <td>NaN</td>\n",
       "      <td>4.65</td>\n",
       "      <td>-4.48</td>\n",
       "      <td>SE</td>\n",
       "      <td>NaN</td>\n",
       "    </tr>\n",
       "    <tr>\n",
       "      <th>1</th>\n",
       "      <td>SRIC1</td>\n",
       "      <td>1999-12-02T19:20:00Z</td>\n",
       "      <td>NaN</td>\n",
       "      <td>8.89</td>\n",
       "      <td>70.0</td>\n",
       "      <td>12.09</td>\n",
       "      <td>130.0</td>\n",
       "      <td>21.45</td>\n",
       "      <td>NaN</td>\n",
       "      <td>NaN</td>\n",
       "      <td>NaN</td>\n",
       "      <td>NaN</td>\n",
       "      <td>NaN</td>\n",
       "      <td>NaN</td>\n",
       "      <td>NaN</td>\n",
       "      <td>NaN</td>\n",
       "      <td>3.66</td>\n",
       "      <td>-2.85</td>\n",
       "      <td>SE</td>\n",
       "      <td>NaN</td>\n",
       "    </tr>\n",
       "    <tr>\n",
       "      <th>2</th>\n",
       "      <td>SRIC1</td>\n",
       "      <td>1999-12-02T20:20:00Z</td>\n",
       "      <td>NaN</td>\n",
       "      <td>9.44</td>\n",
       "      <td>76.0</td>\n",
       "      <td>15.18</td>\n",
       "      <td>120.0</td>\n",
       "      <td>21.92</td>\n",
       "      <td>NaN</td>\n",
       "      <td>NaN</td>\n",
       "      <td>NaN</td>\n",
       "      <td>NaN</td>\n",
       "      <td>NaN</td>\n",
       "      <td>NaN</td>\n",
       "      <td>NaN</td>\n",
       "      <td>NaN</td>\n",
       "      <td>5.38</td>\n",
       "      <td>-3.80</td>\n",
       "      <td>ESE</td>\n",
       "      <td>NaN</td>\n",
       "    </tr>\n",
       "    <tr>\n",
       "      <th>3</th>\n",
       "      <td>SRIC1</td>\n",
       "      <td>1999-12-02T21:20:00Z</td>\n",
       "      <td>NaN</td>\n",
       "      <td>9.44</td>\n",
       "      <td>84.0</td>\n",
       "      <td>14.30</td>\n",
       "      <td>120.0</td>\n",
       "      <td>22.79</td>\n",
       "      <td>NaN</td>\n",
       "      <td>NaN</td>\n",
       "      <td>NaN</td>\n",
       "      <td>NaN</td>\n",
       "      <td>NaN</td>\n",
       "      <td>NaN</td>\n",
       "      <td>NaN</td>\n",
       "      <td>NaN</td>\n",
       "      <td>6.84</td>\n",
       "      <td>-3.37</td>\n",
       "      <td>ESE</td>\n",
       "      <td>NaN</td>\n",
       "    </tr>\n",
       "    <tr>\n",
       "      <th>4</th>\n",
       "      <td>SRIC1</td>\n",
       "      <td>1999-12-02T22:20:00Z</td>\n",
       "      <td>NaN</td>\n",
       "      <td>9.44</td>\n",
       "      <td>74.0</td>\n",
       "      <td>16.10</td>\n",
       "      <td>130.0</td>\n",
       "      <td>22.79</td>\n",
       "      <td>NaN</td>\n",
       "      <td>NaN</td>\n",
       "      <td>NaN</td>\n",
       "      <td>NaN</td>\n",
       "      <td>NaN</td>\n",
       "      <td>NaN</td>\n",
       "      <td>NaN</td>\n",
       "      <td>NaN</td>\n",
       "      <td>4.99</td>\n",
       "      <td>-4.23</td>\n",
       "      <td>SE</td>\n",
       "      <td>NaN</td>\n",
       "    </tr>\n",
       "    <tr>\n",
       "      <th>...</th>\n",
       "      <td>...</td>\n",
       "      <td>...</td>\n",
       "      <td>...</td>\n",
       "      <td>...</td>\n",
       "      <td>...</td>\n",
       "      <td>...</td>\n",
       "      <td>...</td>\n",
       "      <td>...</td>\n",
       "      <td>...</td>\n",
       "      <td>...</td>\n",
       "      <td>...</td>\n",
       "      <td>...</td>\n",
       "      <td>...</td>\n",
       "      <td>...</td>\n",
       "      <td>...</td>\n",
       "      <td>...</td>\n",
       "      <td>...</td>\n",
       "      <td>...</td>\n",
       "      <td>...</td>\n",
       "      <td>...</td>\n",
       "    </tr>\n",
       "    <tr>\n",
       "      <th>200243</th>\n",
       "      <td>SRIC1</td>\n",
       "      <td>2023-08-31T19:13:00Z</td>\n",
       "      <td>NaN</td>\n",
       "      <td>21.67</td>\n",
       "      <td>64.0</td>\n",
       "      <td>3.58</td>\n",
       "      <td>291.0</td>\n",
       "      <td>5.37</td>\n",
       "      <td>13.3</td>\n",
       "      <td>924.0</td>\n",
       "      <td>556.26</td>\n",
       "      <td>NaN</td>\n",
       "      <td>5.37</td>\n",
       "      <td>33.33</td>\n",
       "      <td>8.4</td>\n",
       "      <td>290.0</td>\n",
       "      <td>14.53</td>\n",
       "      <td>NaN</td>\n",
       "      <td>WNW</td>\n",
       "      <td>NaN</td>\n",
       "    </tr>\n",
       "    <tr>\n",
       "      <th>200244</th>\n",
       "      <td>SRIC1</td>\n",
       "      <td>2023-08-31T20:13:00Z</td>\n",
       "      <td>NaN</td>\n",
       "      <td>20.00</td>\n",
       "      <td>69.0</td>\n",
       "      <td>4.02</td>\n",
       "      <td>281.0</td>\n",
       "      <td>6.70</td>\n",
       "      <td>13.4</td>\n",
       "      <td>975.0</td>\n",
       "      <td>556.26</td>\n",
       "      <td>NaN</td>\n",
       "      <td>6.70</td>\n",
       "      <td>32.78</td>\n",
       "      <td>7.5</td>\n",
       "      <td>276.0</td>\n",
       "      <td>14.11</td>\n",
       "      <td>NaN</td>\n",
       "      <td>W</td>\n",
       "      <td>NaN</td>\n",
       "    </tr>\n",
       "    <tr>\n",
       "      <th>200245</th>\n",
       "      <td>SRIC1</td>\n",
       "      <td>2023-08-31T21:13:00Z</td>\n",
       "      <td>NaN</td>\n",
       "      <td>19.44</td>\n",
       "      <td>73.0</td>\n",
       "      <td>4.47</td>\n",
       "      <td>282.0</td>\n",
       "      <td>8.05</td>\n",
       "      <td>13.4</td>\n",
       "      <td>964.0</td>\n",
       "      <td>556.26</td>\n",
       "      <td>NaN</td>\n",
       "      <td>8.05</td>\n",
       "      <td>30.56</td>\n",
       "      <td>7.4</td>\n",
       "      <td>279.0</td>\n",
       "      <td>14.44</td>\n",
       "      <td>NaN</td>\n",
       "      <td>WNW</td>\n",
       "      <td>NaN</td>\n",
       "    </tr>\n",
       "    <tr>\n",
       "      <th>200246</th>\n",
       "      <td>SRIC1</td>\n",
       "      <td>2023-08-31T22:13:00Z</td>\n",
       "      <td>NaN</td>\n",
       "      <td>18.89</td>\n",
       "      <td>74.0</td>\n",
       "      <td>4.02</td>\n",
       "      <td>267.0</td>\n",
       "      <td>7.15</td>\n",
       "      <td>14.0</td>\n",
       "      <td>885.0</td>\n",
       "      <td>556.26</td>\n",
       "      <td>NaN</td>\n",
       "      <td>7.15</td>\n",
       "      <td>30.00</td>\n",
       "      <td>7.2</td>\n",
       "      <td>274.0</td>\n",
       "      <td>14.12</td>\n",
       "      <td>NaN</td>\n",
       "      <td>W</td>\n",
       "      <td>NaN</td>\n",
       "    </tr>\n",
       "    <tr>\n",
       "      <th>200247</th>\n",
       "      <td>SRIC1</td>\n",
       "      <td>2023-08-31T23:13:00Z</td>\n",
       "      <td>NaN</td>\n",
       "      <td>20.56</td>\n",
       "      <td>69.0</td>\n",
       "      <td>3.13</td>\n",
       "      <td>253.0</td>\n",
       "      <td>5.81</td>\n",
       "      <td>13.4</td>\n",
       "      <td>743.0</td>\n",
       "      <td>556.26</td>\n",
       "      <td>NaN</td>\n",
       "      <td>5.81</td>\n",
       "      <td>29.44</td>\n",
       "      <td>7.3</td>\n",
       "      <td>272.0</td>\n",
       "      <td>14.65</td>\n",
       "      <td>NaN</td>\n",
       "      <td>WSW</td>\n",
       "      <td>NaN</td>\n",
       "    </tr>\n",
       "  </tbody>\n",
       "</table>\n",
       "<p>200248 rows × 20 columns</p>\n",
       "</div>"
      ],
      "text/plain": [
       "       Unnamed: 0            Unnamed: 1  Millimeters  Celsius     %    m/s  \\\n",
       "0           SRIC1  1999-12-02T18:20:00Z          NaN     8.89  75.0  15.18   \n",
       "1           SRIC1  1999-12-02T19:20:00Z          NaN     8.89  70.0  12.09   \n",
       "2           SRIC1  1999-12-02T20:20:00Z          NaN     9.44  76.0  15.18   \n",
       "3           SRIC1  1999-12-02T21:20:00Z          NaN     9.44  84.0  14.30   \n",
       "4           SRIC1  1999-12-02T22:20:00Z          NaN     9.44  74.0  16.10   \n",
       "...           ...                   ...          ...      ...   ...    ...   \n",
       "200243      SRIC1  2023-08-31T19:13:00Z          NaN    21.67  64.0   3.58   \n",
       "200244      SRIC1  2023-08-31T20:13:00Z          NaN    20.00  69.0   4.02   \n",
       "200245      SRIC1  2023-08-31T21:13:00Z          NaN    19.44  73.0   4.47   \n",
       "200246      SRIC1  2023-08-31T22:13:00Z          NaN    18.89  74.0   4.02   \n",
       "200247      SRIC1  2023-08-31T23:13:00Z          NaN    20.56  69.0   3.13   \n",
       "\n",
       "        Degrees  m/s.1  volts  W/m**2  Millimeters.1  Celsius.1  m/s.2  \\\n",
       "0         130.0  20.99    NaN     NaN            NaN        NaN    NaN   \n",
       "1         130.0  21.45    NaN     NaN            NaN        NaN    NaN   \n",
       "2         120.0  21.92    NaN     NaN            NaN        NaN    NaN   \n",
       "3         120.0  22.79    NaN     NaN            NaN        NaN    NaN   \n",
       "4         130.0  22.79    NaN     NaN            NaN        NaN    NaN   \n",
       "...         ...    ...    ...     ...            ...        ...    ...   \n",
       "200243    291.0   5.37   13.3   924.0         556.26        NaN   5.37   \n",
       "200244    281.0   6.70   13.4   975.0         556.26        NaN   6.70   \n",
       "200245    282.0   8.05   13.4   964.0         556.26        NaN   8.05   \n",
       "200246    267.0   7.15   14.0   885.0         556.26        NaN   7.15   \n",
       "200247    253.0   5.81   13.4   743.0         556.26        NaN   5.81   \n",
       "\n",
       "        Celsius.2   gm  Degrees.1  Celsius.3  Celsius.4 code  Celsius.5  \n",
       "0             NaN  NaN        NaN       4.65      -4.48   SE        NaN  \n",
       "1             NaN  NaN        NaN       3.66      -2.85   SE        NaN  \n",
       "2             NaN  NaN        NaN       5.38      -3.80  ESE        NaN  \n",
       "3             NaN  NaN        NaN       6.84      -3.37  ESE        NaN  \n",
       "4             NaN  NaN        NaN       4.99      -4.23   SE        NaN  \n",
       "...           ...  ...        ...        ...        ...  ...        ...  \n",
       "200243      33.33  8.4      290.0      14.53        NaN  WNW        NaN  \n",
       "200244      32.78  7.5      276.0      14.11        NaN    W        NaN  \n",
       "200245      30.56  7.4      279.0      14.44        NaN  WNW        NaN  \n",
       "200246      30.00  7.2      274.0      14.12        NaN    W        NaN  \n",
       "200247      29.44  7.3      272.0      14.65        NaN  WSW        NaN  \n",
       "\n",
       "[200248 rows x 20 columns]"
      ]
     },
     "execution_count": 27,
     "metadata": {},
     "output_type": "execute_result"
    }
   ],
   "source": [
    "# RAWS data\n",
    "#  Santa Rosa Island\n",
    "path = '/home/sbarc/wrf/wrf401/channel/stations/'\n",
    "file = 'SRIC1.2023-09-01.csv'\n",
    "\n",
    "# ------------------------------------------\n",
    "dd   = pd.read_csv(path+file,skiprows=11)\n",
    "dd\n"
   ]
  },
  {
   "cell_type": "markdown",
   "metadata": {},
   "source": [
    "### **Rearrange data**"
   ]
  },
  {
   "cell_type": "code",
   "execution_count": null,
   "metadata": {},
   "outputs": [
    {
     "data": {
      "text/html": [
       "<div>\n",
       "<style scoped>\n",
       "    .dataframe tbody tr th:only-of-type {\n",
       "        vertical-align: middle;\n",
       "    }\n",
       "\n",
       "    .dataframe tbody tr th {\n",
       "        vertical-align: top;\n",
       "    }\n",
       "\n",
       "    .dataframe thead th {\n",
       "        text-align: right;\n",
       "    }\n",
       "</style>\n",
       "<table border=\"1\" class=\"dataframe\">\n",
       "  <thead>\n",
       "    <tr style=\"text-align: right;\">\n",
       "      <th></th>\n",
       "      <th>time (PST)</th>\n",
       "      <th>air temperature (C)</th>\n",
       "      <th>relative humidity (%)</th>\n",
       "      <th>wind speed (m/s)</th>\n",
       "      <th>wind direction (deg)</th>\n",
       "      <th>wind gust (m/s)</th>\n",
       "    </tr>\n",
       "  </thead>\n",
       "  <tbody>\n",
       "    <tr>\n",
       "      <th>0</th>\n",
       "      <td>1999-12-02 10:20:00-08:00</td>\n",
       "      <td>8.89</td>\n",
       "      <td>75.0</td>\n",
       "      <td>15.18</td>\n",
       "      <td>130.0</td>\n",
       "      <td>20.99</td>\n",
       "    </tr>\n",
       "    <tr>\n",
       "      <th>1</th>\n",
       "      <td>1999-12-02 11:20:00-08:00</td>\n",
       "      <td>8.89</td>\n",
       "      <td>70.0</td>\n",
       "      <td>12.09</td>\n",
       "      <td>130.0</td>\n",
       "      <td>21.45</td>\n",
       "    </tr>\n",
       "    <tr>\n",
       "      <th>2</th>\n",
       "      <td>1999-12-02 12:20:00-08:00</td>\n",
       "      <td>9.44</td>\n",
       "      <td>76.0</td>\n",
       "      <td>15.18</td>\n",
       "      <td>120.0</td>\n",
       "      <td>21.92</td>\n",
       "    </tr>\n",
       "    <tr>\n",
       "      <th>3</th>\n",
       "      <td>1999-12-02 13:20:00-08:00</td>\n",
       "      <td>9.44</td>\n",
       "      <td>84.0</td>\n",
       "      <td>14.30</td>\n",
       "      <td>120.0</td>\n",
       "      <td>22.79</td>\n",
       "    </tr>\n",
       "    <tr>\n",
       "      <th>4</th>\n",
       "      <td>1999-12-02 14:20:00-08:00</td>\n",
       "      <td>9.44</td>\n",
       "      <td>74.0</td>\n",
       "      <td>16.10</td>\n",
       "      <td>130.0</td>\n",
       "      <td>22.79</td>\n",
       "    </tr>\n",
       "    <tr>\n",
       "      <th>...</th>\n",
       "      <td>...</td>\n",
       "      <td>...</td>\n",
       "      <td>...</td>\n",
       "      <td>...</td>\n",
       "      <td>...</td>\n",
       "      <td>...</td>\n",
       "    </tr>\n",
       "    <tr>\n",
       "      <th>200243</th>\n",
       "      <td>2023-08-31 12:13:00-07:00</td>\n",
       "      <td>21.67</td>\n",
       "      <td>64.0</td>\n",
       "      <td>3.58</td>\n",
       "      <td>291.0</td>\n",
       "      <td>5.37</td>\n",
       "    </tr>\n",
       "    <tr>\n",
       "      <th>200244</th>\n",
       "      <td>2023-08-31 13:13:00-07:00</td>\n",
       "      <td>20.00</td>\n",
       "      <td>69.0</td>\n",
       "      <td>4.02</td>\n",
       "      <td>281.0</td>\n",
       "      <td>6.70</td>\n",
       "    </tr>\n",
       "    <tr>\n",
       "      <th>200245</th>\n",
       "      <td>2023-08-31 14:13:00-07:00</td>\n",
       "      <td>19.44</td>\n",
       "      <td>73.0</td>\n",
       "      <td>4.47</td>\n",
       "      <td>282.0</td>\n",
       "      <td>8.05</td>\n",
       "    </tr>\n",
       "    <tr>\n",
       "      <th>200246</th>\n",
       "      <td>2023-08-31 15:13:00-07:00</td>\n",
       "      <td>18.89</td>\n",
       "      <td>74.0</td>\n",
       "      <td>4.02</td>\n",
       "      <td>267.0</td>\n",
       "      <td>7.15</td>\n",
       "    </tr>\n",
       "    <tr>\n",
       "      <th>200247</th>\n",
       "      <td>2023-08-31 16:13:00-07:00</td>\n",
       "      <td>20.56</td>\n",
       "      <td>69.0</td>\n",
       "      <td>3.13</td>\n",
       "      <td>253.0</td>\n",
       "      <td>5.81</td>\n",
       "    </tr>\n",
       "  </tbody>\n",
       "</table>\n",
       "<p>200248 rows × 6 columns</p>\n",
       "</div>"
      ],
      "text/plain": [
       "                      time (PST)  air temperature (C)  relative humidity (%)  \\\n",
       "0      1999-12-02 10:20:00-08:00                 8.89                   75.0   \n",
       "1      1999-12-02 11:20:00-08:00                 8.89                   70.0   \n",
       "2      1999-12-02 12:20:00-08:00                 9.44                   76.0   \n",
       "3      1999-12-02 13:20:00-08:00                 9.44                   84.0   \n",
       "4      1999-12-02 14:20:00-08:00                 9.44                   74.0   \n",
       "...                          ...                  ...                    ...   \n",
       "200243 2023-08-31 12:13:00-07:00                21.67                   64.0   \n",
       "200244 2023-08-31 13:13:00-07:00                20.00                   69.0   \n",
       "200245 2023-08-31 14:13:00-07:00                19.44                   73.0   \n",
       "200246 2023-08-31 15:13:00-07:00                18.89                   74.0   \n",
       "200247 2023-08-31 16:13:00-07:00                20.56                   69.0   \n",
       "\n",
       "        wind speed (m/s)  wind direction (deg)  wind gust (m/s)  \n",
       "0                  15.18                 130.0            20.99  \n",
       "1                  12.09                 130.0            21.45  \n",
       "2                  15.18                 120.0            21.92  \n",
       "3                  14.30                 120.0            22.79  \n",
       "4                  16.10                 130.0            22.79  \n",
       "...                  ...                   ...              ...  \n",
       "200243              3.58                 291.0             5.37  \n",
       "200244              4.02                 281.0             6.70  \n",
       "200245              4.47                 282.0             8.05  \n",
       "200246              4.02                 267.0             7.15  \n",
       "200247              3.13                 253.0             5.81  \n",
       "\n",
       "[200248 rows x 6 columns]"
      ]
     },
     "execution_count": 28,
     "metadata": {},
     "output_type": "execute_result"
    }
   ],
   "source": [
    "#  Note: time stamp is in a column here\n",
    "#  to resample data, time stamp is set as an index\n",
    "\n",
    "#  grab time and convert to PST time\n",
    "x  = pd.DataFrame({'Time (PST)':pd.to_datetime(dd.iloc[:,1],utc=True)})\n",
    "x  = x['Time (PST)'].dt.tz_convert('US/Pacific')\n",
    "# create dictionary\n",
    "data = {'time (PST)':x,\n",
    "        'air temperature (C)':dd.iloc[:,3],\n",
    "        'relative humidity (%)':dd.iloc[:,4],\n",
    "        'wind speed (m/s)':dd.iloc[:,5],\n",
    "        'wind direction (deg)':dd.iloc[:,6],\n",
    "        'wind gust (m/s)':dd.iloc[:,7]}\n",
    "# create data frame\n",
    "disl = pd.DataFrame(data)\n",
    "disl\n"
   ]
  },
  {
   "cell_type": "code",
   "execution_count": 29,
   "metadata": {},
   "outputs": [
    {
     "data": {
      "text/plain": [
       "Index(['time (PST)', 'air temperature (C)', 'relative humidity (%)',\n",
       "       'wind speed (m/s)', 'wind direction (deg)', 'wind gust (m/s)'],\n",
       "      dtype='object')"
      ]
     },
     "execution_count": 29,
     "metadata": {},
     "output_type": "execute_result"
    }
   ],
   "source": [
    "disl.columns"
   ]
  },
  {
   "cell_type": "markdown",
   "metadata": {},
   "source": [
    "### **Add attributes to dataframe**\n"
   ]
  },
  {
   "cell_type": "code",
   "execution_count": null,
   "metadata": {},
   "outputs": [],
   "source": [
    "#  Santa Cruz Island\n",
    "disl.attrs['Description'] ='RAWS station: Santa Cruz Island'\n",
    "disl.attrs['Code']        = 'SNCC1'\n",
    "disl.attrs['Latitude']    = 33.992981\n",
    "disl.attrs['Longitude']   = -119.716264\n",
    "disl.attrs['Elevation m'] = 89.0\n",
    "\n",
    "print (disl.attrs)"
   ]
  },
  {
   "cell_type": "code",
   "execution_count": 30,
   "metadata": {},
   "outputs": [
    {
     "name": "stdout",
     "output_type": "stream",
     "text": [
      "{'Description': 'RAWS station: Santa Rosa Island', 'Code': 'SNCC1', 'Latitude': 33.978686, 'Longitude': -120.078778, 'Elevation m': 391.3}\n"
     ]
    }
   ],
   "source": [
    "#  Santa Rosa Island\n",
    "disl.attrs['Description'] ='RAWS station: Santa Rosa Island'\n",
    "disl.attrs['Code']        = 'SNCC1'\n",
    "disl.attrs['Latitude']    =  33.978686\n",
    "disl.attrs['Longitude']   = -120.078778\n",
    "disl.attrs['Elevation m'] = 391.3 \n",
    "\n",
    "print (disl.attrs)"
   ]
  },
  {
   "cell_type": "code",
   "execution_count": 31,
   "metadata": {},
   "outputs": [
    {
     "data": {
      "text/plain": [
       "(float, float, float)"
      ]
     },
     "execution_count": 31,
     "metadata": {},
     "output_type": "execute_result"
    }
   ],
   "source": [
    "#   extract attributes as floating number\n",
    "\n",
    "latitude  = disl.attrs['Latitude']\n",
    "longitude = disl.attrs['Longitude']\n",
    "elevation = disl.attrs['Elevation m']\n",
    "type(latitude),type(longitude),type(elevation)\n"
   ]
  },
  {
   "cell_type": "markdown",
   "metadata": {},
   "source": [
    "## **Check Temperature data**"
   ]
  },
  {
   "cell_type": "code",
   "execution_count": 32,
   "metadata": {},
   "outputs": [
    {
     "data": {
      "text/html": [
       "<div>\n",
       "<style scoped>\n",
       "    .dataframe tbody tr th:only-of-type {\n",
       "        vertical-align: middle;\n",
       "    }\n",
       "\n",
       "    .dataframe tbody tr th {\n",
       "        vertical-align: top;\n",
       "    }\n",
       "\n",
       "    .dataframe thead th {\n",
       "        text-align: right;\n",
       "    }\n",
       "</style>\n",
       "<table border=\"1\" class=\"dataframe\">\n",
       "  <thead>\n",
       "    <tr style=\"text-align: right;\">\n",
       "      <th></th>\n",
       "      <th>air temperature (C)</th>\n",
       "    </tr>\n",
       "  </thead>\n",
       "  <tbody>\n",
       "    <tr>\n",
       "      <th>count</th>\n",
       "      <td>199021.000000</td>\n",
       "    </tr>\n",
       "    <tr>\n",
       "      <th>mean</th>\n",
       "      <td>13.455463</td>\n",
       "    </tr>\n",
       "    <tr>\n",
       "      <th>std</th>\n",
       "      <td>5.214623</td>\n",
       "    </tr>\n",
       "    <tr>\n",
       "      <th>min</th>\n",
       "      <td>0.000000</td>\n",
       "    </tr>\n",
       "    <tr>\n",
       "      <th>25%</th>\n",
       "      <td>10.000000</td>\n",
       "    </tr>\n",
       "    <tr>\n",
       "      <th>50%</th>\n",
       "      <td>12.220000</td>\n",
       "    </tr>\n",
       "    <tr>\n",
       "      <th>75%</th>\n",
       "      <td>16.110000</td>\n",
       "    </tr>\n",
       "    <tr>\n",
       "      <th>max</th>\n",
       "      <td>55.560000</td>\n",
       "    </tr>\n",
       "  </tbody>\n",
       "</table>\n",
       "</div>"
      ],
      "text/plain": [
       "       air temperature (C)\n",
       "count        199021.000000\n",
       "mean             13.455463\n",
       "std               5.214623\n",
       "min               0.000000\n",
       "25%              10.000000\n",
       "50%              12.220000\n",
       "75%              16.110000\n",
       "max              55.560000"
      ]
     },
     "execution_count": 32,
     "metadata": {},
     "output_type": "execute_result"
    }
   ],
   "source": [
    "# check statistics for each variable\n",
    "dairt = disl.iloc[:,0:2]\n",
    "dairt.describe()\n",
    "\n"
   ]
  },
  {
   "cell_type": "code",
   "execution_count": 33,
   "metadata": {},
   "outputs": [
    {
     "data": {
      "text/plain": [
       "<AxesSubplot:>"
      ]
     },
     "execution_count": 33,
     "metadata": {},
     "output_type": "execute_result"
    },
    {
     "data": {
      "image/png": "[encoded data removed]",
      "text/plain": [
       "<Figure size 1400x300 with 1 Axes>"
      ]
     },
     "metadata": {},
     "output_type": "display_data"
    }
   ],
   "source": [
    "# Check air temperature\n",
    "\n",
    "plt.figure(figsize=[14,3])\n",
    "dairt.iloc[:,1].plot()\n"
   ]
  },
  {
   "cell_type": "code",
   "execution_count": null,
   "metadata": {},
   "outputs": [],
   "source": [
    "# inspect minimum outlier\n",
    "\n",
    "tmp = dairt.iloc[:,1].to_numpy()\n",
    "i   = np.where(tmp < -5.)\n",
    "i   = i[0]\n",
    "i   = i.item()\n",
    "\n",
    "plt.figure(figsize=[14,3])\n",
    "plt.plot(tmp[i-100:i+100])\n"
   ]
  },
  {
   "cell_type": "code",
   "execution_count": null,
   "metadata": {},
   "outputs": [],
   "source": [
    "# suspicious value!\n",
    "# put NAN value in dataframe\n",
    "dairt.iloc[i,1] = np.nan\n",
    "\n"
   ]
  },
  {
   "cell_type": "code",
   "execution_count": null,
   "metadata": {},
   "outputs": [],
   "source": [
    "i = np.where((x >2) & (x<5))\n",
    "#i = np.argwhere(np.where(x > 2,x, x<5))\n",
    "#i = np.squeeze(i)\n",
    "--------------------"
   ]
  },
  {
   "cell_type": "code",
   "execution_count": 36,
   "metadata": {},
   "outputs": [],
   "source": [
    "# inspect maximum outlier    - SRI\n",
    "\n",
    "tmp = dairt.iloc[:,1].to_numpy()\n",
    "i   = np.argwhere(tmp > 45.)\n",
    "i = np.squeeze(i)\n",
    "i\n",
    "\n",
    "#i   = i[0]\n",
    "#i   = i[0].item()\n",
    "# put NAN value in dataframe\n",
    "dairt.iloc[i,1] = np.nan\n",
    "#plt.figure(figsize=[14,3])\n",
    "#plt.plot(tmp[i-100:i+100])\n",
    "\n",
    "# It looks okay - leave it"
   ]
  },
  {
   "cell_type": "code",
   "execution_count": 37,
   "metadata": {},
   "outputs": [
    {
     "data": {
      "text/plain": [
       "Index(['time (PST)', 'air temperature (C)'], dtype='object')"
      ]
     },
     "execution_count": 37,
     "metadata": {},
     "output_type": "execute_result"
    }
   ],
   "source": [
    "# recheck statistics\n",
    "\n",
    "dairt.describe()\n",
    "dairt.columns\n"
   ]
  },
  {
   "cell_type": "code",
   "execution_count": 38,
   "metadata": {},
   "outputs": [
    {
     "data": {
      "text/plain": [
       "<AxesSubplot:>"
      ]
     },
     "execution_count": 38,
     "metadata": {},
     "output_type": "execute_result"
    },
    {
     "data": {
      "image/png": "[encoded data removed]",
      "text/plain": [
       "<Figure size 1400x300 with 1 Axes>"
      ]
     },
     "metadata": {},
     "output_type": "display_data"
    }
   ],
   "source": [
    "# Check air temperature\n",
    "\n",
    "plt.figure(figsize=[14,3])\n",
    "dairt.iloc[:,1].plot()\n"
   ]
  },
  {
   "cell_type": "markdown",
   "metadata": {},
   "source": [
    "## **Resample to daily means and max**"
   ]
  },
  {
   "cell_type": "code",
   "execution_count": 39,
   "metadata": {},
   "outputs": [
    {
     "data": {
      "text/plain": [
       "Index(['air temperature (C)'], dtype='object')"
      ]
     },
     "execution_count": 39,
     "metadata": {},
     "output_type": "execute_result"
    }
   ],
   "source": [
    "# Set the index of the DataFrame to the time column\n",
    "dairt.set_index('time (PST)', inplace=True)\n",
    "dairt.columns\n",
    "\n"
   ]
  },
  {
   "cell_type": "code",
   "execution_count": 40,
   "metadata": {},
   "outputs": [
    {
     "data": {
      "text/html": [
       "<div>\n",
       "<style scoped>\n",
       "    .dataframe tbody tr th:only-of-type {\n",
       "        vertical-align: middle;\n",
       "    }\n",
       "\n",
       "    .dataframe tbody tr th {\n",
       "        vertical-align: top;\n",
       "    }\n",
       "\n",
       "    .dataframe thead th {\n",
       "        text-align: right;\n",
       "    }\n",
       "</style>\n",
       "<table border=\"1\" class=\"dataframe\">\n",
       "  <thead>\n",
       "    <tr style=\"text-align: right;\">\n",
       "      <th></th>\n",
       "      <th>air temperature (C)</th>\n",
       "    </tr>\n",
       "    <tr>\n",
       "      <th>time (PST)</th>\n",
       "      <th></th>\n",
       "    </tr>\n",
       "  </thead>\n",
       "  <tbody>\n",
       "    <tr>\n",
       "      <th>1999-12-02 10:20:00-08:00</th>\n",
       "      <td>8.89</td>\n",
       "    </tr>\n",
       "    <tr>\n",
       "      <th>1999-12-02 11:20:00-08:00</th>\n",
       "      <td>8.89</td>\n",
       "    </tr>\n",
       "    <tr>\n",
       "      <th>1999-12-02 12:20:00-08:00</th>\n",
       "      <td>9.44</td>\n",
       "    </tr>\n",
       "    <tr>\n",
       "      <th>1999-12-02 13:20:00-08:00</th>\n",
       "      <td>9.44</td>\n",
       "    </tr>\n",
       "    <tr>\n",
       "      <th>1999-12-02 14:20:00-08:00</th>\n",
       "      <td>9.44</td>\n",
       "    </tr>\n",
       "    <tr>\n",
       "      <th>...</th>\n",
       "      <td>...</td>\n",
       "    </tr>\n",
       "    <tr>\n",
       "      <th>2023-08-31 12:13:00-07:00</th>\n",
       "      <td>21.67</td>\n",
       "    </tr>\n",
       "    <tr>\n",
       "      <th>2023-08-31 13:13:00-07:00</th>\n",
       "      <td>20.00</td>\n",
       "    </tr>\n",
       "    <tr>\n",
       "      <th>2023-08-31 14:13:00-07:00</th>\n",
       "      <td>19.44</td>\n",
       "    </tr>\n",
       "    <tr>\n",
       "      <th>2023-08-31 15:13:00-07:00</th>\n",
       "      <td>18.89</td>\n",
       "    </tr>\n",
       "    <tr>\n",
       "      <th>2023-08-31 16:13:00-07:00</th>\n",
       "      <td>20.56</td>\n",
       "    </tr>\n",
       "  </tbody>\n",
       "</table>\n",
       "<p>200248 rows × 1 columns</p>\n",
       "</div>"
      ],
      "text/plain": [
       "                           air temperature (C)\n",
       "time (PST)                                    \n",
       "1999-12-02 10:20:00-08:00                 8.89\n",
       "1999-12-02 11:20:00-08:00                 8.89\n",
       "1999-12-02 12:20:00-08:00                 9.44\n",
       "1999-12-02 13:20:00-08:00                 9.44\n",
       "1999-12-02 14:20:00-08:00                 9.44\n",
       "...                                        ...\n",
       "2023-08-31 12:13:00-07:00                21.67\n",
       "2023-08-31 13:13:00-07:00                20.00\n",
       "2023-08-31 14:13:00-07:00                19.44\n",
       "2023-08-31 15:13:00-07:00                18.89\n",
       "2023-08-31 16:13:00-07:00                20.56\n",
       "\n",
       "[200248 rows x 1 columns]"
      ]
     },
     "execution_count": 40,
     "metadata": {},
     "output_type": "execute_result"
    }
   ],
   "source": [
    "dairt"
   ]
  },
  {
   "cell_type": "code",
   "execution_count": 41,
   "metadata": {},
   "outputs": [
    {
     "data": {
      "text/html": [
       "<div>\n",
       "<style scoped>\n",
       "    .dataframe tbody tr th:only-of-type {\n",
       "        vertical-align: middle;\n",
       "    }\n",
       "\n",
       "    .dataframe tbody tr th {\n",
       "        vertical-align: top;\n",
       "    }\n",
       "\n",
       "    .dataframe thead th {\n",
       "        text-align: right;\n",
       "    }\n",
       "</style>\n",
       "<table border=\"1\" class=\"dataframe\">\n",
       "  <thead>\n",
       "    <tr style=\"text-align: right;\">\n",
       "      <th></th>\n",
       "      <th>air temperature (C)</th>\n",
       "    </tr>\n",
       "    <tr>\n",
       "      <th>time (PST)</th>\n",
       "      <th></th>\n",
       "    </tr>\n",
       "  </thead>\n",
       "  <tbody>\n",
       "    <tr>\n",
       "      <th>1999-12-02 00:00:00-08:00</th>\n",
       "      <td>7.935714</td>\n",
       "    </tr>\n",
       "    <tr>\n",
       "      <th>1999-12-03 00:00:00-08:00</th>\n",
       "      <td>8.588750</td>\n",
       "    </tr>\n",
       "    <tr>\n",
       "      <th>1999-12-04 00:00:00-08:00</th>\n",
       "      <td>11.434167</td>\n",
       "    </tr>\n",
       "    <tr>\n",
       "      <th>1999-12-05 00:00:00-08:00</th>\n",
       "      <td>10.555833</td>\n",
       "    </tr>\n",
       "    <tr>\n",
       "      <th>1999-12-06 00:00:00-08:00</th>\n",
       "      <td>8.496250</td>\n",
       "    </tr>\n",
       "    <tr>\n",
       "      <th>...</th>\n",
       "      <td>...</td>\n",
       "    </tr>\n",
       "    <tr>\n",
       "      <th>2023-08-27 00:00:00-07:00</th>\n",
       "      <td>18.750000</td>\n",
       "    </tr>\n",
       "    <tr>\n",
       "      <th>2023-08-28 00:00:00-07:00</th>\n",
       "      <td>22.986250</td>\n",
       "    </tr>\n",
       "    <tr>\n",
       "      <th>2023-08-29 00:00:00-07:00</th>\n",
       "      <td>17.037917</td>\n",
       "    </tr>\n",
       "    <tr>\n",
       "      <th>2023-08-30 00:00:00-07:00</th>\n",
       "      <td>26.899583</td>\n",
       "    </tr>\n",
       "    <tr>\n",
       "      <th>2023-08-31 00:00:00-07:00</th>\n",
       "      <td>20.719412</td>\n",
       "    </tr>\n",
       "  </tbody>\n",
       "</table>\n",
       "<p>8674 rows × 1 columns</p>\n",
       "</div>"
      ],
      "text/plain": [
       "                           air temperature (C)\n",
       "time (PST)                                    \n",
       "1999-12-02 00:00:00-08:00             7.935714\n",
       "1999-12-03 00:00:00-08:00             8.588750\n",
       "1999-12-04 00:00:00-08:00            11.434167\n",
       "1999-12-05 00:00:00-08:00            10.555833\n",
       "1999-12-06 00:00:00-08:00             8.496250\n",
       "...                                        ...\n",
       "2023-08-27 00:00:00-07:00            18.750000\n",
       "2023-08-28 00:00:00-07:00            22.986250\n",
       "2023-08-29 00:00:00-07:00            17.037917\n",
       "2023-08-30 00:00:00-07:00            26.899583\n",
       "2023-08-31 00:00:00-07:00            20.719412\n",
       "\n",
       "[8674 rows x 1 columns]"
      ]
     },
     "execution_count": 41,
     "metadata": {},
     "output_type": "execute_result"
    }
   ],
   "source": [
    "# Resample the DataFrame to daily data\n",
    "dairt_dly = dairt.resample('D').mean()\n",
    "dairt_dly"
   ]
  },
  {
   "cell_type": "code",
   "execution_count": 42,
   "metadata": {},
   "outputs": [
    {
     "data": {
      "text/html": [
       "<div>\n",
       "<style scoped>\n",
       "    .dataframe tbody tr th:only-of-type {\n",
       "        vertical-align: middle;\n",
       "    }\n",
       "\n",
       "    .dataframe tbody tr th {\n",
       "        vertical-align: top;\n",
       "    }\n",
       "\n",
       "    .dataframe thead th {\n",
       "        text-align: right;\n",
       "    }\n",
       "</style>\n",
       "<table border=\"1\" class=\"dataframe\">\n",
       "  <thead>\n",
       "    <tr style=\"text-align: right;\">\n",
       "      <th></th>\n",
       "      <th>air temperature (C)</th>\n",
       "    </tr>\n",
       "    <tr>\n",
       "      <th>time (PST)</th>\n",
       "      <th></th>\n",
       "    </tr>\n",
       "  </thead>\n",
       "  <tbody>\n",
       "    <tr>\n",
       "      <th>1999-12-02 00:00:00-08:00</th>\n",
       "      <td>9.44</td>\n",
       "    </tr>\n",
       "    <tr>\n",
       "      <th>1999-12-03 00:00:00-08:00</th>\n",
       "      <td>11.67</td>\n",
       "    </tr>\n",
       "    <tr>\n",
       "      <th>1999-12-04 00:00:00-08:00</th>\n",
       "      <td>15.00</td>\n",
       "    </tr>\n",
       "    <tr>\n",
       "      <th>1999-12-05 00:00:00-08:00</th>\n",
       "      <td>15.00</td>\n",
       "    </tr>\n",
       "    <tr>\n",
       "      <th>1999-12-06 00:00:00-08:00</th>\n",
       "      <td>13.33</td>\n",
       "    </tr>\n",
       "    <tr>\n",
       "      <th>...</th>\n",
       "      <td>...</td>\n",
       "    </tr>\n",
       "    <tr>\n",
       "      <th>2023-08-27 00:00:00-07:00</th>\n",
       "      <td>29.44</td>\n",
       "    </tr>\n",
       "    <tr>\n",
       "      <th>2023-08-28 00:00:00-07:00</th>\n",
       "      <td>28.89</td>\n",
       "    </tr>\n",
       "    <tr>\n",
       "      <th>2023-08-29 00:00:00-07:00</th>\n",
       "      <td>21.67</td>\n",
       "    </tr>\n",
       "    <tr>\n",
       "      <th>2023-08-30 00:00:00-07:00</th>\n",
       "      <td>32.22</td>\n",
       "    </tr>\n",
       "    <tr>\n",
       "      <th>2023-08-31 00:00:00-07:00</th>\n",
       "      <td>22.78</td>\n",
       "    </tr>\n",
       "  </tbody>\n",
       "</table>\n",
       "<p>8674 rows × 1 columns</p>\n",
       "</div>"
      ],
      "text/plain": [
       "                           air temperature (C)\n",
       "time (PST)                                    \n",
       "1999-12-02 00:00:00-08:00                 9.44\n",
       "1999-12-03 00:00:00-08:00                11.67\n",
       "1999-12-04 00:00:00-08:00                15.00\n",
       "1999-12-05 00:00:00-08:00                15.00\n",
       "1999-12-06 00:00:00-08:00                13.33\n",
       "...                                        ...\n",
       "2023-08-27 00:00:00-07:00                29.44\n",
       "2023-08-28 00:00:00-07:00                28.89\n",
       "2023-08-29 00:00:00-07:00                21.67\n",
       "2023-08-30 00:00:00-07:00                32.22\n",
       "2023-08-31 00:00:00-07:00                22.78\n",
       "\n",
       "[8674 rows x 1 columns]"
      ]
     },
     "execution_count": 42,
     "metadata": {},
     "output_type": "execute_result"
    }
   ],
   "source": [
    "# Resample the DataFrame to daily max\n",
    "dairt_max = dairt.resample('D').max()\n",
    "dairt_max"
   ]
  },
  {
   "cell_type": "markdown",
   "metadata": {},
   "source": [
    "## **Resample to monthly means and max**"
   ]
  },
  {
   "cell_type": "code",
   "execution_count": 45,
   "metadata": {},
   "outputs": [
    {
     "data": {
      "text/html": [
       "<div>\n",
       "<style scoped>\n",
       "    .dataframe tbody tr th:only-of-type {\n",
       "        vertical-align: middle;\n",
       "    }\n",
       "\n",
       "    .dataframe tbody tr th {\n",
       "        vertical-align: top;\n",
       "    }\n",
       "\n",
       "    .dataframe thead th {\n",
       "        text-align: right;\n",
       "    }\n",
       "</style>\n",
       "<table border=\"1\" class=\"dataframe\">\n",
       "  <thead>\n",
       "    <tr style=\"text-align: right;\">\n",
       "      <th></th>\n",
       "      <th>air temperature (C)</th>\n",
       "    </tr>\n",
       "    <tr>\n",
       "      <th>time (PST)</th>\n",
       "      <th></th>\n",
       "    </tr>\n",
       "  </thead>\n",
       "  <tbody>\n",
       "    <tr>\n",
       "      <th>1999-12-31 00:00:00-08:00</th>\n",
       "      <td>12.098864</td>\n",
       "    </tr>\n",
       "    <tr>\n",
       "      <th>2000-01-31 00:00:00-08:00</th>\n",
       "      <td>9.107523</td>\n",
       "    </tr>\n",
       "    <tr>\n",
       "      <th>2000-02-29 00:00:00-08:00</th>\n",
       "      <td>8.571346</td>\n",
       "    </tr>\n",
       "    <tr>\n",
       "      <th>2000-03-31 00:00:00-08:00</th>\n",
       "      <td>8.679459</td>\n",
       "    </tr>\n",
       "    <tr>\n",
       "      <th>2000-04-30 00:00:00-07:00</th>\n",
       "      <td>9.477880</td>\n",
       "    </tr>\n",
       "    <tr>\n",
       "      <th>...</th>\n",
       "      <td>...</td>\n",
       "    </tr>\n",
       "    <tr>\n",
       "      <th>2023-04-30 00:00:00-07:00</th>\n",
       "      <td>10.137208</td>\n",
       "    </tr>\n",
       "    <tr>\n",
       "      <th>2023-05-31 00:00:00-07:00</th>\n",
       "      <td>10.922197</td>\n",
       "    </tr>\n",
       "    <tr>\n",
       "      <th>2023-06-30 00:00:00-07:00</th>\n",
       "      <td>12.218625</td>\n",
       "    </tr>\n",
       "    <tr>\n",
       "      <th>2023-07-31 00:00:00-07:00</th>\n",
       "      <td>18.195336</td>\n",
       "    </tr>\n",
       "    <tr>\n",
       "      <th>2023-08-31 00:00:00-07:00</th>\n",
       "      <td>17.296784</td>\n",
       "    </tr>\n",
       "  </tbody>\n",
       "</table>\n",
       "<p>285 rows × 1 columns</p>\n",
       "</div>"
      ],
      "text/plain": [
       "                           air temperature (C)\n",
       "time (PST)                                    \n",
       "1999-12-31 00:00:00-08:00            12.098864\n",
       "2000-01-31 00:00:00-08:00             9.107523\n",
       "2000-02-29 00:00:00-08:00             8.571346\n",
       "2000-03-31 00:00:00-08:00             8.679459\n",
       "2000-04-30 00:00:00-07:00             9.477880\n",
       "...                                        ...\n",
       "2023-04-30 00:00:00-07:00            10.137208\n",
       "2023-05-31 00:00:00-07:00            10.922197\n",
       "2023-06-30 00:00:00-07:00            12.218625\n",
       "2023-07-31 00:00:00-07:00            18.195336\n",
       "2023-08-31 00:00:00-07:00            17.296784\n",
       "\n",
       "[285 rows x 1 columns]"
      ]
     },
     "execution_count": 45,
     "metadata": {},
     "output_type": "execute_result"
    }
   ],
   "source": [
    "\n",
    "# Resample the DataFrame to monthly mean and max\n",
    "dairt_monmean = dairt.resample('M').mean()\n",
    "dairt_monmax  = dairt.resample('M').max()\n",
    "dairt_monmean\n"
   ]
  },
  {
   "cell_type": "code",
   "execution_count": 46,
   "metadata": {},
   "outputs": [
    {
     "data": {
      "text/plain": [
       "<AxesSubplot:title={'center':'Monthly Mean'}, xlabel='time (PST)'>"
      ]
     },
     "execution_count": 46,
     "metadata": {},
     "output_type": "execute_result"
    },
    {
     "data": {
      "text/plain": [
       "<Figure size 3500x200 with 0 Axes>"
      ]
     },
     "metadata": {},
     "output_type": "display_data"
    },
    {
     "data": {
      "image/png": "[encoded data removed]",
      "text/plain": [
       "<Figure size 640x480 with 1 Axes>"
      ]
     },
     "metadata": {},
     "output_type": "display_data"
    },
    {
     "data": {
      "image/png": "[encoded data removed]",
      "text/plain": [
       "<Figure size 640x480 with 1 Axes>"
      ]
     },
     "metadata": {},
     "output_type": "display_data"
    }
   ],
   "source": [
    "# Check air temperature\n",
    "\n",
    "plt.figure(figsize=[35,2])\n",
    "dairt_monmax.plot(color='blue',title='Monthly Max')\n",
    "dairt_monmean.plot(color='red',title='Monthly Mean')\n"
   ]
  },
  {
   "cell_type": "markdown",
   "metadata": {},
   "source": [
    "---\n",
    "## Save clean monthly data"
   ]
  },
  {
   "cell_type": "code",
   "execution_count": null,
   "metadata": {},
   "outputs": [],
   "source": [
    "#    SCI\n",
    "\n",
    "path     =  '/home/sbarc/wrf/wrf401/channel/stations/'\n",
    "file     =  'SCI.monthly.pkl'\n",
    "dssci    = dairt_monmean\n",
    "dssci.to_pickle(path + file)\n",
    "\n"
   ]
  },
  {
   "cell_type": "code",
   "execution_count": 47,
   "metadata": {},
   "outputs": [],
   "source": [
    "#    SRI\n",
    "\n",
    "path     =  '/home/sbarc/wrf/wrf401/channel/stations/'\n",
    "file     =  'SRI.monthly.pkl'\n",
    "dssci    = dairt_monmean\n",
    "dssci.to_pickle(path + file)\n",
    "\n"
   ]
  },
  {
   "cell_type": "code",
   "execution_count": null,
   "metadata": {},
   "outputs": [],
   "source": [
    "PANDAS\n",
    "*** Save panda dataframe as pkl\n",
    "path    = '/home/saturn-models/labfees/sce/collated/2022/'\n",
    "fileout = 'SCE-Temperature-2022-complete.pkl'\n",
    "dpat.to_pickle(path + fileout)\n",
    "\n",
    "*** Read as pikle\n",
    "filein = '/home/saturn-models/labfees/sce/collated/2022/SCE-Temperature-2022-complete.pkl'\n",
    "ds     = pd.read_pickle(filein)\n",
    "ds\n"
   ]
  },
  {
   "cell_type": "code",
   "execution_count": null,
   "metadata": {},
   "outputs": [],
   "source": [
    "dssci"
   ]
  },
  {
   "cell_type": "code",
   "execution_count": null,
   "metadata": {},
   "outputs": [],
   "source": []
  },
  {
   "cell_type": "markdown",
   "metadata": {},
   "source": [
    "---\n",
    "## **END**\n",
    "---"
   ]
  },
  {
   "cell_type": "code",
   "execution_count": null,
   "metadata": {},
   "outputs": [],
   "source": []
  }
 ],
 "metadata": {
  "kernelspec": {
   "display_name": "Python (pyclivac)",
   "language": "python",
   "name": "pyclivac"
  },
  "language_info": {
   "codemirror_mode": {
    "name": "ipython",
    "version": 3
   },
   "file_extension": ".py",
   "mimetype": "text/x-python",
   "name": "python",
   "nbconvert_exporter": "python",
   "pygments_lexer": "ipython3",
   "version": "3.8.12"
  }
 },
 "nbformat": 4,
 "nbformat_minor": 4
}
