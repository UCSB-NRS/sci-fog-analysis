{
 "cells": [
  {
   "cell_type": "code",
   "execution_count": 1,
   "metadata": {},
   "outputs": [],
   "source": [
    "import os \n",
    "from pathlib import Path\n",
    "import numpy as np\n",
    "import pandas as pd\n",
    "\n",
    "import matplotlib.pyplot as plt\n",
    "import seaborn as sns\n",
    "\n",
    "sns.set_style('whitegrid')"
   ]
  },
  {
   "cell_type": "markdown",
   "metadata": {},
   "source": [
    "# About\n",
    "\n",
    "__Author:__ Pat McCornack\n",
    "\n",
    "__Date:__ 02/14/25\n",
    "\n",
    "__Description:__  \n",
    "This notebook preprocesses the data and does basic qc checks. This includes subsetting the variables, renaming the variables to a standard format, and taking the action specified in the finding summary. \n",
    "\n",
    "__Findings Summary:__  \n",
    "\n",
    "__Outputs:__  \n",
    "Cleaned data is output to `./data/02-clean/`"
   ]
  },
  {
   "cell_type": "markdown",
   "metadata": {},
   "source": [
    "## Data QC "
   ]
  },
  {
   "cell_type": "code",
   "execution_count": 2,
   "metadata": {},
   "outputs": [],
   "source": [
    "#### Specify Arguments ###\n",
    "fname1 = 'sci-cair.csv'\n",
    "fname2 = 'sci-caircsun.csv'\n",
    "\n",
    "root_dir = Path().resolve().parents[1]\n",
    "data_dir = root_dir / 'data'\n",
    "src_fpath1 = data_dir / '01-raw' / 'met-station' / fname1\n",
    "src_fpath2 = data_dir / '01-raw' / 'met-station' / fname2\n",
    "\n",
    "outfpath = data_dir / '02-clean' / f'{str(fname1).split('.')[0]}-clean.csv'\n",
    "\n",
    "# Define variables\n",
    "var_dict = {\n",
    "    'time (PST)' : 'datetime',\n",
    "    'fog' : 'Fog',\n",
    "    'air temperature (C)' : 'Temp',\n",
    "    'relative humidity (%)' : 'RH',\n",
    "    'wind speed (m/s)' : 'WindSpd',\n",
    "    'wind gust (m/s)' : 'WdSpdms_MAX',\n",
    "    'wind direction (deg)' : 'WindDir',\n",
    "    'rain (mm)' : 'Rain',\n",
    "    'leaf wetness' : 'LeafWet',  # Unsure what the units are on this\n",
    "    'soil moisture' : 'SoilMoist'  # I think this is VWC\n",
    "}\n",
    "\n",
    "# Fog tip value\n",
    "fog_tip_v = 0.2"
   ]
  },
  {
   "cell_type": "code",
   "execution_count": 17,
   "metadata": {},
   "outputs": [
    {
     "name": "stderr",
     "output_type": "stream",
     "text": [
      "/var/folders/77/txzkwfd92_q42s0qflv4nbh00000gn/T/ipykernel_17716/3839562039.py:15: UserWarning: Could not infer format, so each element will be parsed individually, falling back to `dateutil`. To ensure parsing is consistent and as-expected, please specify a format.\n",
      "  df1['datetime'] = pd.to_datetime(df1['datetime'])\n",
      "/var/folders/77/txzkwfd92_q42s0qflv4nbh00000gn/T/ipykernel_17716/3839562039.py:16: UserWarning: Could not infer format, so each element will be parsed individually, falling back to `dateutil`. To ensure parsing is consistent and as-expected, please specify a format.\n",
      "  df2['datetime'] = pd.to_datetime(df2['datetime'])\n"
     ]
    }
   ],
   "source": [
    "#### Read in and prepare data ####\n",
    "df1 = pd.read_csv(src_fpath1)\n",
    "df2 = pd.read_csv(src_fpath2)\n",
    "\n",
    "# Create timestamp\n",
    "dates = [date.split(' ')[0] for date in df1['Date']]\n",
    "times = [time.split(' ')[1] for time in df1['PST']]\n",
    "df1['datetime'] = [date + ' ' + time for date, time in zip(dates, times)]\n",
    "\n",
    "dates = [date.split(' ')[0] for date in df2['Date']]\n",
    "times = [time.split(' ')[1] for time in df2['PST']]\n",
    "df2['datetime'] = [date + ' ' + time for date, time in zip(dates, times)]\n",
    "\n",
    "# Set the datetime index\n",
    "df1['datetime'] = pd.to_datetime(df1['datetime'])\n",
    "df2['datetime'] = pd.to_datetime(df2['datetime'])\n",
    "\n",
    "df1.set_index('datetime', inplace=True)\n",
    "df2.set_index('datetime', inplace=True)\n",
    "\n",
    "# Drop Fog from caircsun - it's empty\n",
    "df2.drop('Fog', axis=1, inplace=True)\n",
    "\n",
    "# join the data\n",
    "df = pd.concat([df1, df2], join='inner', axis=1).reset_index()\n",
    "\n",
    "# Subset and rename columns\n",
    "df = df[list(var_dict.values())]\n",
    "df.columns = list(var_dict.keys())\n",
    "df['time (PST)'] = pd.to_datetime(df['time (PST)'])\n",
    "\n",
    "# Replace 'bad' value with NaN\n",
    "df.replace(-888.888000, np.nan, inplace=True)\n",
    "\n",
    "# Round fog values to closest .2\n",
    "df['fog'] = df['fog'].round(1)\n",
    "\n",
    "# Create fog tip var\n",
    "df['fog tips'] = df['fog'] / fog_tip_v"
   ]
  },
  {
   "cell_type": "code",
   "execution_count": 18,
   "metadata": {},
   "outputs": [
    {
     "data": {
      "application/vnd.microsoft.datawrangler.viewer.v0+json": {
       "columns": [
        {
         "name": "index",
         "rawType": "int64",
         "type": "integer"
        },
        {
         "name": "time (PST)",
         "rawType": "datetime64[ns]",
         "type": "datetime"
        },
        {
         "name": "fog",
         "rawType": "float64",
         "type": "float"
        },
        {
         "name": "air temperature (C)",
         "rawType": "float64",
         "type": "float"
        },
        {
         "name": "relative humidity (%)",
         "rawType": "float64",
         "type": "float"
        },
        {
         "name": "wind speed (m/s)",
         "rawType": "float64",
         "type": "float"
        },
        {
         "name": "wind gust (m/s)",
         "rawType": "float64",
         "type": "float"
        },
        {
         "name": "wind direction (deg)",
         "rawType": "float64",
         "type": "float"
        },
        {
         "name": "rain (mm)",
         "rawType": "float64",
         "type": "float"
        },
        {
         "name": "leaf wetness",
         "rawType": "float64",
         "type": "float"
        },
        {
         "name": "soil moisture",
         "rawType": "float64",
         "type": "float"
        },
        {
         "name": "fog tips",
         "rawType": "float64",
         "type": "float"
        }
       ],
       "conversionMethod": "pd.DataFrame",
       "ref": "64f9bb63-f719-4af8-9c6a-8fc183c370db",
       "rows": [
        [
         "0",
         "2004-04-05 15:00:00",
         "0.0",
         "14.73",
         "73.300003",
         "3.138",
         "5.6059999",
         "279.60001",
         "0.0",
         "2.0392001",
         "0.11574",
         "0.0"
        ],
        [
         "1",
         "2004-04-05 16:00:00",
         "0.0",
         "13.98",
         "75.599998",
         "3.1229999",
         "5.9580002",
         "275.89999",
         "0.0",
         "1.9073",
         "0.11701",
         "0.0"
        ],
        [
         "2",
         "2004-04-05 17:00:00",
         "0.0",
         "12.93",
         "78.300003",
         "3.3959999",
         "5.9000001",
         "284.10001",
         "0.0",
         "1.6473",
         "0.11829",
         "0.0"
        ],
        [
         "3",
         "2004-04-05 18:00:00",
         "0.0",
         "11.9",
         "80.5",
         "3.0580001",
         "5.664",
         "283.39999",
         "0.0",
         "0.44980001",
         "0.11871",
         "0.0"
        ],
        [
         "4",
         "2004-04-05 19:00:00",
         "0.0",
         "10.96",
         "85.400002",
         "2.3199999",
         "4.8410001",
         "285.39999",
         "0.0",
         "0.095799997",
         "0.11914",
         "0.0"
        ]
       ],
       "shape": {
        "columns": 11,
        "rows": 5
       }
      },
      "text/html": [
       "<div>\n",
       "<style scoped>\n",
       "    .dataframe tbody tr th:only-of-type {\n",
       "        vertical-align: middle;\n",
       "    }\n",
       "\n",
       "    .dataframe tbody tr th {\n",
       "        vertical-align: top;\n",
       "    }\n",
       "\n",
       "    .dataframe thead th {\n",
       "        text-align: right;\n",
       "    }\n",
       "</style>\n",
       "<table border=\"1\" class=\"dataframe\">\n",
       "  <thead>\n",
       "    <tr style=\"text-align: right;\">\n",
       "      <th></th>\n",
       "      <th>time (PST)</th>\n",
       "      <th>fog</th>\n",
       "      <th>air temperature (C)</th>\n",
       "      <th>relative humidity (%)</th>\n",
       "      <th>wind speed (m/s)</th>\n",
       "      <th>wind gust (m/s)</th>\n",
       "      <th>wind direction (deg)</th>\n",
       "      <th>rain (mm)</th>\n",
       "      <th>leaf wetness</th>\n",
       "      <th>soil moisture</th>\n",
       "      <th>fog tips</th>\n",
       "    </tr>\n",
       "  </thead>\n",
       "  <tbody>\n",
       "    <tr>\n",
       "      <th>0</th>\n",
       "      <td>2004-04-05 15:00:00</td>\n",
       "      <td>0.0</td>\n",
       "      <td>14.73</td>\n",
       "      <td>73.300003</td>\n",
       "      <td>3.138</td>\n",
       "      <td>5.606</td>\n",
       "      <td>279.60001</td>\n",
       "      <td>0.0</td>\n",
       "      <td>2.0392</td>\n",
       "      <td>0.11574</td>\n",
       "      <td>0.0</td>\n",
       "    </tr>\n",
       "    <tr>\n",
       "      <th>1</th>\n",
       "      <td>2004-04-05 16:00:00</td>\n",
       "      <td>0.0</td>\n",
       "      <td>13.98</td>\n",
       "      <td>75.599998</td>\n",
       "      <td>3.123</td>\n",
       "      <td>5.958</td>\n",
       "      <td>275.89999</td>\n",
       "      <td>0.0</td>\n",
       "      <td>1.9073</td>\n",
       "      <td>0.11701</td>\n",
       "      <td>0.0</td>\n",
       "    </tr>\n",
       "    <tr>\n",
       "      <th>2</th>\n",
       "      <td>2004-04-05 17:00:00</td>\n",
       "      <td>0.0</td>\n",
       "      <td>12.93</td>\n",
       "      <td>78.300003</td>\n",
       "      <td>3.396</td>\n",
       "      <td>5.900</td>\n",
       "      <td>284.10001</td>\n",
       "      <td>0.0</td>\n",
       "      <td>1.6473</td>\n",
       "      <td>0.11829</td>\n",
       "      <td>0.0</td>\n",
       "    </tr>\n",
       "    <tr>\n",
       "      <th>3</th>\n",
       "      <td>2004-04-05 18:00:00</td>\n",
       "      <td>0.0</td>\n",
       "      <td>11.90</td>\n",
       "      <td>80.500000</td>\n",
       "      <td>3.058</td>\n",
       "      <td>5.664</td>\n",
       "      <td>283.39999</td>\n",
       "      <td>0.0</td>\n",
       "      <td>0.4498</td>\n",
       "      <td>0.11871</td>\n",
       "      <td>0.0</td>\n",
       "    </tr>\n",
       "    <tr>\n",
       "      <th>4</th>\n",
       "      <td>2004-04-05 19:00:00</td>\n",
       "      <td>0.0</td>\n",
       "      <td>10.96</td>\n",
       "      <td>85.400002</td>\n",
       "      <td>2.320</td>\n",
       "      <td>4.841</td>\n",
       "      <td>285.39999</td>\n",
       "      <td>0.0</td>\n",
       "      <td>0.0958</td>\n",
       "      <td>0.11914</td>\n",
       "      <td>0.0</td>\n",
       "    </tr>\n",
       "  </tbody>\n",
       "</table>\n",
       "</div>"
      ],
      "text/plain": [
       "           time (PST)  fog  air temperature (C)  relative humidity (%)  \\\n",
       "0 2004-04-05 15:00:00  0.0                14.73              73.300003   \n",
       "1 2004-04-05 16:00:00  0.0                13.98              75.599998   \n",
       "2 2004-04-05 17:00:00  0.0                12.93              78.300003   \n",
       "3 2004-04-05 18:00:00  0.0                11.90              80.500000   \n",
       "4 2004-04-05 19:00:00  0.0                10.96              85.400002   \n",
       "\n",
       "   wind speed (m/s)  wind gust (m/s)  wind direction (deg)  rain (mm)  \\\n",
       "0             3.138            5.606             279.60001        0.0   \n",
       "1             3.123            5.958             275.89999        0.0   \n",
       "2             3.396            5.900             284.10001        0.0   \n",
       "3             3.058            5.664             283.39999        0.0   \n",
       "4             2.320            4.841             285.39999        0.0   \n",
       "\n",
       "   leaf wetness  soil moisture  fog tips  \n",
       "0        2.0392        0.11574       0.0  \n",
       "1        1.9073        0.11701       0.0  \n",
       "2        1.6473        0.11829       0.0  \n",
       "3        0.4498        0.11871       0.0  \n",
       "4        0.0958        0.11914       0.0  "
      ]
     },
     "execution_count": 18,
     "metadata": {},
     "output_type": "execute_result"
    }
   ],
   "source": [
    "df.head()"
   ]
  },
  {
   "cell_type": "markdown",
   "metadata": {},
   "source": [
    "### Missing Values\n",
    "Observations:\n",
    "1. Large chunks of data are missing - we won't be able to interpolate these values. \n",
    "2. Also noticed that NaN seems to be coded as -888.88\n",
    "3. Wind data has same number of 'good' values as fog - it's filled with 0s during periods where data is missing for the other columns. \n",
    "\n",
    "Actions: \n",
    "1. Drop the missing fog observations, leave the smaller number of additional missing air temperature and relative humidity."
   ]
  },
  {
   "cell_type": "code",
   "execution_count": 19,
   "metadata": {},
   "outputs": [
    {
     "name": "stdout",
     "output_type": "stream",
     "text": [
      "<class 'pandas.core.frame.DataFrame'>\n",
      "RangeIndex: 13893 entries, 0 to 13892\n",
      "Data columns (total 11 columns):\n",
      " #   Column                 Non-Null Count  Dtype         \n",
      "---  ------                 --------------  -----         \n",
      " 0   time (PST)             13893 non-null  datetime64[ns]\n",
      " 1   fog                    13893 non-null  float64       \n",
      " 2   air temperature (C)    13893 non-null  float64       \n",
      " 3   relative humidity (%)  13893 non-null  float64       \n",
      " 4   wind speed (m/s)       13893 non-null  float64       \n",
      " 5   wind gust (m/s)        13893 non-null  float64       \n",
      " 6   wind direction (deg)   13893 non-null  float64       \n",
      " 7   rain (mm)              13893 non-null  float64       \n",
      " 8   leaf wetness           13893 non-null  float64       \n",
      " 9   soil moisture          6756 non-null   float64       \n",
      " 10  fog tips               13893 non-null  float64       \n",
      "dtypes: datetime64[ns](1), float64(10)\n",
      "memory usage: 1.2 MB\n"
     ]
    }
   ],
   "source": [
    "df.info()"
   ]
  },
  {
   "cell_type": "code",
   "execution_count": 14,
   "metadata": {},
   "outputs": [
    {
     "data": {
      "text/plain": [
       "Index(['time (PST)', 'fog', 'air temperature (C)', 'relative humidity (%)',\n",
       "       'wind speed (m/s)', 'wind gust (m/s)', 'wind direction (deg)',\n",
       "       'rain (mm)', 'leaf wetness', 'soil moisture', 'fog tips'],\n",
       "      dtype='object')"
      ]
     },
     "execution_count": 14,
     "metadata": {},
     "output_type": "execute_result"
    }
   ],
   "source": [
    "df.columns"
   ]
  },
  {
   "cell_type": "markdown",
   "metadata": {},
   "source": []
  },
  {
   "cell_type": "code",
   "execution_count": 15,
   "metadata": {},
   "outputs": [],
   "source": [
    "# Drop missing observations\n",
    "df = df.dropna(subset=['air temperature (C)'])"
   ]
  },
  {
   "cell_type": "code",
   "execution_count": 16,
   "metadata": {},
   "outputs": [
    {
     "name": "stdout",
     "output_type": "stream",
     "text": [
      "<class 'pandas.core.frame.DataFrame'>\n",
      "RangeIndex: 13893 entries, 0 to 13892\n",
      "Data columns (total 11 columns):\n",
      " #   Column                 Non-Null Count  Dtype         \n",
      "---  ------                 --------------  -----         \n",
      " 0   time (PST)             13893 non-null  datetime64[ns]\n",
      " 1   fog                    13893 non-null  float64       \n",
      " 2   air temperature (C)    13893 non-null  float64       \n",
      " 3   relative humidity (%)  13893 non-null  float64       \n",
      " 4   wind speed (m/s)       13893 non-null  float64       \n",
      " 5   wind gust (m/s)        13893 non-null  float64       \n",
      " 6   wind direction (deg)   13893 non-null  float64       \n",
      " 7   rain (mm)              13893 non-null  float64       \n",
      " 8   leaf wetness           13893 non-null  float64       \n",
      " 9   soil moisture          6756 non-null   float64       \n",
      " 10  fog tips               13893 non-null  float64       \n",
      "dtypes: datetime64[ns](1), float64(10)\n",
      "memory usage: 1.2 MB\n"
     ]
    }
   ],
   "source": [
    "df.info()"
   ]
  },
  {
   "cell_type": "markdown",
   "metadata": {},
   "source": [
    "### Univariate Distributions\n",
    "\n",
    "Check boxplots of each variable to assess data quality. There's no major issues that are immediately apparent.  \n",
    "\n",
    "Observations:\n",
    "1. There are some RH measurements under 0% and slightly above 100. \n",
    "\n",
    "Actions\n",
    "1. Constrain RH sensor values to 0-100. According to Gert-Jan, sensor drift like this isn't uncommon."
   ]
  },
  {
   "cell_type": "code",
   "execution_count": 27,
   "metadata": {},
   "outputs": [
    {
     "data": {
      "image/png": "[encoded data removed]",
      "text/plain": [
       "<Figure size 1211.11x900 with 10 Axes>"
      ]
     },
     "metadata": {},
     "output_type": "display_data"
    }
   ],
   "source": [
    "#### Quick plot of distributions ####\n",
    "# Create long form data\n",
    "value_col = df.columns.drop(['time (PST)']).tolist()\n",
    "df_long = pd.melt(df, id_vars=['time (PST)'], value_vars=value_col)\n",
    "\n",
    "# Plot boxplots\n",
    "sns.catplot(data=df_long, kind='box', col='variable', y='value',\n",
    "            sharey=False, height=3, col_wrap=4)\n",
    "plt.show()\n"
   ]
  },
  {
   "cell_type": "code",
   "execution_count": 28,
   "metadata": {},
   "outputs": [
    {
     "data": {
      "text/html": [
       "<div>\n",
       "<style scoped>\n",
       "    .dataframe tbody tr th:only-of-type {\n",
       "        vertical-align: middle;\n",
       "    }\n",
       "\n",
       "    .dataframe tbody tr th {\n",
       "        vertical-align: top;\n",
       "    }\n",
       "\n",
       "    .dataframe thead th {\n",
       "        text-align: right;\n",
       "    }\n",
       "</style>\n",
       "<table border=\"1\" class=\"dataframe\">\n",
       "  <thead>\n",
       "    <tr style=\"text-align: right;\">\n",
       "      <th></th>\n",
       "      <th>time (PST)</th>\n",
       "      <th>fog</th>\n",
       "      <th>air temperature (C)</th>\n",
       "      <th>relative humidity (%)</th>\n",
       "      <th>wind speed (m/s)</th>\n",
       "      <th>wind gust (m/s)</th>\n",
       "      <th>wind direction (deg)</th>\n",
       "      <th>rain (mm)</th>\n",
       "      <th>leaf wetness</th>\n",
       "      <th>soil moisture</th>\n",
       "      <th>fog tips</th>\n",
       "    </tr>\n",
       "  </thead>\n",
       "  <tbody>\n",
       "    <tr>\n",
       "      <th>count</th>\n",
       "      <td>13893</td>\n",
       "      <td>13893.000000</td>\n",
       "      <td>13893.000000</td>\n",
       "      <td>13893.000000</td>\n",
       "      <td>13893.000000</td>\n",
       "      <td>13893.000000</td>\n",
       "      <td>13893.000000</td>\n",
       "      <td>13893.000000</td>\n",
       "      <td>13893.000000</td>\n",
       "      <td>6756.000000</td>\n",
       "      <td>13893.000000</td>\n",
       "    </tr>\n",
       "    <tr>\n",
       "      <th>mean</th>\n",
       "      <td>2005-01-20 01:00:00</td>\n",
       "      <td>0.015778</td>\n",
       "      <td>14.094871</td>\n",
       "      <td>80.257528</td>\n",
       "      <td>1.687279</td>\n",
       "      <td>3.675281</td>\n",
       "      <td>227.937923</td>\n",
       "      <td>0.039637</td>\n",
       "      <td>1.410112</td>\n",
       "      <td>0.039774</td>\n",
       "      <td>0.078889</td>\n",
       "    </tr>\n",
       "    <tr>\n",
       "      <th>min</th>\n",
       "      <td>2004-04-05 15:00:00</td>\n",
       "      <td>0.000000</td>\n",
       "      <td>-32.000000</td>\n",
       "      <td>8.510000</td>\n",
       "      <td>0.000000</td>\n",
       "      <td>0.000000</td>\n",
       "      <td>0.000000</td>\n",
       "      <td>0.000000</td>\n",
       "      <td>0.012800</td>\n",
       "      <td>-0.068780</td>\n",
       "      <td>0.000000</td>\n",
       "    </tr>\n",
       "    <tr>\n",
       "      <th>25%</th>\n",
       "      <td>2004-08-28 08:00:00</td>\n",
       "      <td>0.000000</td>\n",
       "      <td>11.610000</td>\n",
       "      <td>72.199997</td>\n",
       "      <td>0.920000</td>\n",
       "      <td>2.254000</td>\n",
       "      <td>106.200000</td>\n",
       "      <td>0.000000</td>\n",
       "      <td>0.740400</td>\n",
       "      <td>0.007150</td>\n",
       "      <td>0.000000</td>\n",
       "    </tr>\n",
       "    <tr>\n",
       "      <th>50%</th>\n",
       "      <td>2005-01-20 01:00:00</td>\n",
       "      <td>0.000000</td>\n",
       "      <td>13.970000</td>\n",
       "      <td>85.000000</td>\n",
       "      <td>1.508000</td>\n",
       "      <td>3.430000</td>\n",
       "      <td>284.299990</td>\n",
       "      <td>0.000000</td>\n",
       "      <td>1.746200</td>\n",
       "      <td>0.024120</td>\n",
       "      <td>0.000000</td>\n",
       "    </tr>\n",
       "    <tr>\n",
       "      <th>75%</th>\n",
       "      <td>2005-06-13 18:00:00</td>\n",
       "      <td>0.000000</td>\n",
       "      <td>16.559999</td>\n",
       "      <td>91.300003</td>\n",
       "      <td>2.305000</td>\n",
       "      <td>4.743000</td>\n",
       "      <td>298.299990</td>\n",
       "      <td>0.000000</td>\n",
       "      <td>2.074600</td>\n",
       "      <td>0.057200</td>\n",
       "      <td>0.000000</td>\n",
       "    </tr>\n",
       "    <tr>\n",
       "      <th>max</th>\n",
       "      <td>2005-11-05 11:00:00</td>\n",
       "      <td>6.200000</td>\n",
       "      <td>32.840000</td>\n",
       "      <td>97.199997</td>\n",
       "      <td>6.833000</td>\n",
       "      <td>18.170000</td>\n",
       "      <td>359.899990</td>\n",
       "      <td>5.080000</td>\n",
       "      <td>2.091700</td>\n",
       "      <td>0.258270</td>\n",
       "      <td>31.000000</td>\n",
       "    </tr>\n",
       "    <tr>\n",
       "      <th>std</th>\n",
       "      <td>NaN</td>\n",
       "      <td>0.181664</td>\n",
       "      <td>4.100959</td>\n",
       "      <td>14.549684</td>\n",
       "      <td>1.004055</td>\n",
       "      <td>1.799617</td>\n",
       "      <td>93.165630</td>\n",
       "      <td>0.272997</td>\n",
       "      <td>0.725377</td>\n",
       "      <td>0.046408</td>\n",
       "      <td>0.908320</td>\n",
       "    </tr>\n",
       "  </tbody>\n",
       "</table>\n",
       "</div>"
      ],
      "text/plain": [
       "                time (PST)           fog  air temperature (C)  \\\n",
       "count                13893  13893.000000         13893.000000   \n",
       "mean   2005-01-20 01:00:00      0.015778            14.094871   \n",
       "min    2004-04-05 15:00:00      0.000000           -32.000000   \n",
       "25%    2004-08-28 08:00:00      0.000000            11.610000   \n",
       "50%    2005-01-20 01:00:00      0.000000            13.970000   \n",
       "75%    2005-06-13 18:00:00      0.000000            16.559999   \n",
       "max    2005-11-05 11:00:00      6.200000            32.840000   \n",
       "std                    NaN      0.181664             4.100959   \n",
       "\n",
       "       relative humidity (%)  wind speed (m/s)  wind gust (m/s)  \\\n",
       "count           13893.000000      13893.000000     13893.000000   \n",
       "mean               80.257528          1.687279         3.675281   \n",
       "min                 8.510000          0.000000         0.000000   \n",
       "25%                72.199997          0.920000         2.254000   \n",
       "50%                85.000000          1.508000         3.430000   \n",
       "75%                91.300003          2.305000         4.743000   \n",
       "max                97.199997          6.833000        18.170000   \n",
       "std                14.549684          1.004055         1.799617   \n",
       "\n",
       "       wind direction (deg)     rain (mm)  leaf wetness  soil moisture  \\\n",
       "count          13893.000000  13893.000000  13893.000000    6756.000000   \n",
       "mean             227.937923      0.039637      1.410112       0.039774   \n",
       "min                0.000000      0.000000      0.012800      -0.068780   \n",
       "25%              106.200000      0.000000      0.740400       0.007150   \n",
       "50%              284.299990      0.000000      1.746200       0.024120   \n",
       "75%              298.299990      0.000000      2.074600       0.057200   \n",
       "max              359.899990      5.080000      2.091700       0.258270   \n",
       "std               93.165630      0.272997      0.725377       0.046408   \n",
       "\n",
       "           fog tips  \n",
       "count  13893.000000  \n",
       "mean       0.078889  \n",
       "min        0.000000  \n",
       "25%        0.000000  \n",
       "50%        0.000000  \n",
       "75%        0.000000  \n",
       "max       31.000000  \n",
       "std        0.908320  "
      ]
     },
     "execution_count": 28,
     "metadata": {},
     "output_type": "execute_result"
    }
   ],
   "source": [
    "#### Chekc the actual values ####\n",
    "df.describe()"
   ]
  },
  {
   "cell_type": "markdown",
   "metadata": {},
   "source": [
    "### Constrain RH\n",
    "Ensure all values are between 0 and 100"
   ]
  },
  {
   "cell_type": "code",
   "execution_count": 29,
   "metadata": {},
   "outputs": [],
   "source": [
    "df['relative humidity (%)'] = df['relative humidity (%)'].clip(lower=0, upper=100)"
   ]
  },
  {
   "cell_type": "markdown",
   "metadata": {},
   "source": [
    "### Remove air temperature outlier\n",
    "A value of -32C at this site isnt' possible, remove that observation"
   ]
  },
  {
   "cell_type": "code",
   "execution_count": 30,
   "metadata": {},
   "outputs": [],
   "source": [
    "df = df.loc[df['air temperature (C)'] != -32]"
   ]
  },
  {
   "cell_type": "markdown",
   "metadata": {},
   "source": [
    "### Check leaf wetness values - is there a clear response to moisture? \n",
    "The pattern is odd, or now I'm not going to include LW in the output. "
   ]
  },
  {
   "cell_type": "code",
   "execution_count": 31,
   "metadata": {},
   "outputs": [
    {
     "data": {
      "text/plain": [
       "<Axes: xlabel='condition', ylabel='leaf wetness'>"
      ]
     },
     "execution_count": 31,
     "metadata": {},
     "output_type": "execute_result"
    },
    {
     "data": {
      "image/png": "[encoded data removed]",
      "text/plain": [
       "<Figure size 640x480 with 1 Axes>"
      ]
     },
     "metadata": {},
     "output_type": "display_data"
    }
   ],
   "source": [
    "def label_condition(df):\n",
    "    df['condition'] = 'clear'\n",
    "    for index, row in df.iterrows():\n",
    "        condition='clear'\n",
    "        if row['fog tips'] > 0:\n",
    "            df.loc[index, 'condition'] = 'fog'\n",
    "\n",
    "        if row['rain (mm)'] > 0:\n",
    "            df.loc[index, 'condition'] = 'rain'\n",
    "        \n",
    "        if (row['rain (mm)'] > 0) & (row['fog tips'] > 0):\n",
    "            df.loc[index, 'condition'] = 'both'\n",
    "    \n",
    "    return df\n",
    "tmp = df[['fog tips', 'rain (mm)', 'leaf wetness']].copy()\n",
    "tmp = label_condition(tmp)\n",
    "\n",
    "sns.boxplot(data=tmp,\n",
    "            x='condition',\n",
    "            y='leaf wetness')"
   ]
  },
  {
   "cell_type": "markdown",
   "metadata": {},
   "source": [
    "### Fog Check\n",
    "Given the focus of further analysis on fog at the site, further check the distribution of fog.\n"
   ]
  },
  {
   "cell_type": "code",
   "execution_count": 32,
   "metadata": {},
   "outputs": [
    {
     "data": {
      "image/png": "[encoded data removed]",
      "text/plain": [
       "<Figure size 640x480 with 1 Axes>"
      ]
     },
     "metadata": {},
     "output_type": "display_data"
    },
    {
     "data": {
      "image/png": "[encoded data removed]",
      "text/plain": [
       "<Figure size 640x480 with 1 Axes>"
      ]
     },
     "metadata": {},
     "output_type": "display_data"
    }
   ],
   "source": [
    "#### Check Distribution of Fog Values ####\n",
    "sns.histplot(df['fog tips'].loc[df['fog tips']>0],\n",
    "             binwidth=1)\n",
    "plt.title('Fog Tip Count Distribution')\n",
    "plt.show()\n",
    "\n",
    "# Check right tail of distribution\n",
    "sns.histplot(df['fog tips'].loc[df['fog tips']>10],\n",
    "             binwidth=1)\n",
    "plt.title('Fog Tip Count Distribution, Fog Tips > 10')\n",
    "plt.show()"
   ]
  },
  {
   "cell_type": "code",
   "execution_count": 33,
   "metadata": {},
   "outputs": [
    {
     "data": {
      "text/html": [
       "<div>\n",
       "<style scoped>\n",
       "    .dataframe tbody tr th:only-of-type {\n",
       "        vertical-align: middle;\n",
       "    }\n",
       "\n",
       "    .dataframe tbody tr th {\n",
       "        vertical-align: top;\n",
       "    }\n",
       "\n",
       "    .dataframe thead th {\n",
       "        text-align: right;\n",
       "    }\n",
       "</style>\n",
       "<table border=\"1\" class=\"dataframe\">\n",
       "  <thead>\n",
       "    <tr style=\"text-align: right;\">\n",
       "      <th></th>\n",
       "      <th>time (PST)</th>\n",
       "      <th>fog</th>\n",
       "      <th>air temperature (C)</th>\n",
       "      <th>relative humidity (%)</th>\n",
       "      <th>wind speed (m/s)</th>\n",
       "      <th>wind gust (m/s)</th>\n",
       "      <th>wind direction (deg)</th>\n",
       "      <th>rain (mm)</th>\n",
       "      <th>leaf wetness</th>\n",
       "      <th>soil moisture</th>\n",
       "      <th>fog tips</th>\n",
       "    </tr>\n",
       "  </thead>\n",
       "  <tbody>\n",
       "    <tr>\n",
       "      <th>0</th>\n",
       "      <td>2004-04-05 15:00:00</td>\n",
       "      <td>0.0</td>\n",
       "      <td>14.73</td>\n",
       "      <td>73.300003</td>\n",
       "      <td>3.138</td>\n",
       "      <td>5.606</td>\n",
       "      <td>279.60001</td>\n",
       "      <td>0.0</td>\n",
       "      <td>2.0392</td>\n",
       "      <td>0.11574</td>\n",
       "      <td>0.0</td>\n",
       "    </tr>\n",
       "    <tr>\n",
       "      <th>1</th>\n",
       "      <td>2004-04-05 16:00:00</td>\n",
       "      <td>0.0</td>\n",
       "      <td>13.98</td>\n",
       "      <td>75.599998</td>\n",
       "      <td>3.123</td>\n",
       "      <td>5.958</td>\n",
       "      <td>275.89999</td>\n",
       "      <td>0.0</td>\n",
       "      <td>1.9073</td>\n",
       "      <td>0.11701</td>\n",
       "      <td>0.0</td>\n",
       "    </tr>\n",
       "    <tr>\n",
       "      <th>2</th>\n",
       "      <td>2004-04-05 17:00:00</td>\n",
       "      <td>0.0</td>\n",
       "      <td>12.93</td>\n",
       "      <td>78.300003</td>\n",
       "      <td>3.396</td>\n",
       "      <td>5.900</td>\n",
       "      <td>284.10001</td>\n",
       "      <td>0.0</td>\n",
       "      <td>1.6473</td>\n",
       "      <td>0.11829</td>\n",
       "      <td>0.0</td>\n",
       "    </tr>\n",
       "    <tr>\n",
       "      <th>3</th>\n",
       "      <td>2004-04-05 18:00:00</td>\n",
       "      <td>0.0</td>\n",
       "      <td>11.90</td>\n",
       "      <td>80.500000</td>\n",
       "      <td>3.058</td>\n",
       "      <td>5.664</td>\n",
       "      <td>283.39999</td>\n",
       "      <td>0.0</td>\n",
       "      <td>0.4498</td>\n",
       "      <td>0.11871</td>\n",
       "      <td>0.0</td>\n",
       "    </tr>\n",
       "    <tr>\n",
       "      <th>4</th>\n",
       "      <td>2004-04-05 19:00:00</td>\n",
       "      <td>0.0</td>\n",
       "      <td>10.96</td>\n",
       "      <td>85.400002</td>\n",
       "      <td>2.320</td>\n",
       "      <td>4.841</td>\n",
       "      <td>285.39999</td>\n",
       "      <td>0.0</td>\n",
       "      <td>0.0958</td>\n",
       "      <td>0.11914</td>\n",
       "      <td>0.0</td>\n",
       "    </tr>\n",
       "  </tbody>\n",
       "</table>\n",
       "</div>"
      ],
      "text/plain": [
       "           time (PST)  fog  air temperature (C)  relative humidity (%)  \\\n",
       "0 2004-04-05 15:00:00  0.0                14.73              73.300003   \n",
       "1 2004-04-05 16:00:00  0.0                13.98              75.599998   \n",
       "2 2004-04-05 17:00:00  0.0                12.93              78.300003   \n",
       "3 2004-04-05 18:00:00  0.0                11.90              80.500000   \n",
       "4 2004-04-05 19:00:00  0.0                10.96              85.400002   \n",
       "\n",
       "   wind speed (m/s)  wind gust (m/s)  wind direction (deg)  rain (mm)  \\\n",
       "0             3.138            5.606             279.60001        0.0   \n",
       "1             3.123            5.958             275.89999        0.0   \n",
       "2             3.396            5.900             284.10001        0.0   \n",
       "3             3.058            5.664             283.39999        0.0   \n",
       "4             2.320            4.841             285.39999        0.0   \n",
       "\n",
       "   leaf wetness  soil moisture  fog tips  \n",
       "0        2.0392        0.11574       0.0  \n",
       "1        1.9073        0.11701       0.0  \n",
       "2        1.6473        0.11829       0.0  \n",
       "3        0.4498        0.11871       0.0  \n",
       "4        0.0958        0.11914       0.0  "
      ]
     },
     "execution_count": 33,
     "metadata": {},
     "output_type": "execute_result"
    }
   ],
   "source": [
    "df.head()"
   ]
  },
  {
   "cell_type": "markdown",
   "metadata": {},
   "source": [
    "### Save out cleaned data"
   ]
  },
  {
   "cell_type": "code",
   "execution_count": 34,
   "metadata": {},
   "outputs": [
    {
     "name": "stdout",
     "output_type": "stream",
     "text": [
      "/Users/patmccornack/Documents/ucsb_fog_project/_repositories/sci-fog-analysis/data/02-clean/sci-cair-clean.csv\n"
     ]
    }
   ],
   "source": [
    "#### Save out cleaned data ####\n",
    "df.to_csv(outfpath)\n",
    "print(outfpath)"
   ]
  }
 ],
 "metadata": {
  "kernelspec": {
   "display_name": "data-analysis",
   "language": "python",
   "name": "python3"
  },
  "language_info": {
   "codemirror_mode": {
    "name": "ipython",
    "version": 3
   },
   "file_extension": ".py",
   "mimetype": "text/x-python",
   "name": "python",
   "nbconvert_exporter": "python",
   "pygments_lexer": "ipython3",
   "version": "3.13.1"
  }
 },
 "nbformat": 4,
 "nbformat_minor": 2
}
