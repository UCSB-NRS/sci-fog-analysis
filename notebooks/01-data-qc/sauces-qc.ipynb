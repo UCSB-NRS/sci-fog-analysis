{
 "cells": [
  {
   "cell_type": "code",
   "execution_count": 82,
   "metadata": {},
   "outputs": [],
   "source": [
    "import os \n",
    "import numpy as np\n",
    "import pandas as pd\n",
    "\n",
    "import matplotlib.pyplot as plt\n",
    "import seaborn as sns\n",
    "\n",
    "sns.set_style('whitegrid')"
   ]
  },
  {
   "cell_type": "code",
   "execution_count": 83,
   "metadata": {},
   "outputs": [],
   "source": [
    "def agg_time(df):\n",
    "    times = []\n",
    "    for index, row in df.iterrows():\n",
    "        times.append(f\"{str(row['year']).split('.')[0]}-{str(row['month']).split('.')[0]}-{str(row['day']).split('.')[0]} {str(row['hour']).split('.')[0]}:{str(row['minute']).split('.')[0]}:00\")\n",
    "\n",
    "    df['time (PST)'] = pd.to_datetime(times)\n",
    "    df = df.sort_values(by='time (PST)', ascending=True)\n",
    "    df.drop(['year', 'month', 'day', 'hour', 'minute'], axis=1, inplace=True)\n",
    "\n",
    "    return df\n",
    "\n",
    "def subset_summer(df):\n",
    "    df.set_index('time (PST)', inplace=True)\n",
    "    df = df[df.index.month.isin([5,6,7,8,9])]\n",
    "    df.reset_index(inplace=True)\n",
    "\n",
    "    return df"
   ]
  },
  {
   "cell_type": "markdown",
   "metadata": {},
   "source": [
    "## Data QC "
   ]
  },
  {
   "cell_type": "code",
   "execution_count": 84,
   "metadata": {},
   "outputs": [],
   "source": [
    "#### Specify Arguments ###\n",
    "# Source data paths\n",
    "src_dir = '/Users/patmccornack/Documents/ucsb_fog_project/SCI_Fog_Project_Repo/data/01_raw/met_station/still-lab/'\n",
    "src_fname = 'sauc-2003-2008.csv'\n",
    "src_fpath = os.path.join(src_dir, src_fname)\n",
    "\n",
    "# Out paths\n",
    "outdir = '/Users/patmccornack/Documents/ucsb_fog_project/SCI_Fog_Project_Repo/data/02_clean/'\n",
    "out_fname = 'sauc-summer-clean-2003-2008.csv'\n",
    "out_fpath = os.path.join(outdir, out_fname)\n",
    "\n",
    "# Define variables\n",
    "var_dict = {\n",
    "    'year' : 'Year',\n",
    "    'month' : 'Month',\n",
    "    'day' : 'Day',\n",
    "    'hour' : 'Hour',\n",
    "    'minute' : 'Minute',\n",
    "    'fog' :'Fog',\n",
    "    'air temperature (C)' : 'Temp',\n",
    "    'relative humidity (%)' : 'RH',\n",
    "    'wind speed (m/s)' : 'WS_MS_S_WVT',  # Has same values as 'WindSpd', but no missing observations\n",
    "    'wind gust (m/s)' : 'WS_MS_MAX',\n",
    "    'wind direction (deg)' : 'WindDir',\n",
    "    'rain (mm)' : 'Rain',  # Unsure about units\n",
    "    # 'solar radiation (kwm2)' :'Pyran_Avg',  # Data is suspect - 0s during day, nonzeros at night - plus missing many values\n",
    "    # 'leaf wetness (mv)' : 'LeafWet'  # Missing many values, leaving out. Unsure if values coded as 99999 are NA\n",
    "}\n",
    "\n",
    "# Fog tip value\n",
    "fog_tip_v = 4.714\n",
    "\n",
    "# Options\n",
    "process_time = True\n",
    "summer_subset = True"
   ]
  },
  {
   "cell_type": "code",
   "execution_count": 85,
   "metadata": {},
   "outputs": [
    {
     "data": {
      "text/html": [
       "<div>\n",
       "<style scoped>\n",
       "    .dataframe tbody tr th:only-of-type {\n",
       "        vertical-align: middle;\n",
       "    }\n",
       "\n",
       "    .dataframe tbody tr th {\n",
       "        vertical-align: top;\n",
       "    }\n",
       "\n",
       "    .dataframe thead th {\n",
       "        text-align: right;\n",
       "    }\n",
       "</style>\n",
       "<table border=\"1\" class=\"dataframe\">\n",
       "  <thead>\n",
       "    <tr style=\"text-align: right;\">\n",
       "      <th></th>\n",
       "      <th>time (PST)</th>\n",
       "      <th>fog</th>\n",
       "      <th>air temperature (C)</th>\n",
       "      <th>relative humidity (%)</th>\n",
       "      <th>wind speed (m/s)</th>\n",
       "      <th>wind gust (m/s)</th>\n",
       "      <th>wind direction (deg)</th>\n",
       "      <th>rain (mm)</th>\n",
       "      <th>fog tips</th>\n",
       "    </tr>\n",
       "  </thead>\n",
       "  <tbody>\n",
       "    <tr>\n",
       "      <th>0</th>\n",
       "      <td>2004-05-01 00:00:00</td>\n",
       "      <td>0.0</td>\n",
       "      <td>15.45</td>\n",
       "      <td>51.74</td>\n",
       "      <td>2.60</td>\n",
       "      <td>3.33</td>\n",
       "      <td>327.70</td>\n",
       "      <td>0.0</td>\n",
       "      <td>0.0</td>\n",
       "    </tr>\n",
       "    <tr>\n",
       "      <th>1</th>\n",
       "      <td>2004-05-01 00:15:00</td>\n",
       "      <td>0.0</td>\n",
       "      <td>15.74</td>\n",
       "      <td>49.51</td>\n",
       "      <td>2.08</td>\n",
       "      <td>2.33</td>\n",
       "      <td>326.27</td>\n",
       "      <td>0.0</td>\n",
       "      <td>0.0</td>\n",
       "    </tr>\n",
       "    <tr>\n",
       "      <th>2</th>\n",
       "      <td>2004-05-01 00:30:00</td>\n",
       "      <td>0.0</td>\n",
       "      <td>15.42</td>\n",
       "      <td>52.07</td>\n",
       "      <td>1.79</td>\n",
       "      <td>2.15</td>\n",
       "      <td>321.58</td>\n",
       "      <td>0.0</td>\n",
       "      <td>0.0</td>\n",
       "    </tr>\n",
       "  </tbody>\n",
       "</table>\n",
       "</div>"
      ],
      "text/plain": [
       "           time (PST)  fog  air temperature (C)  relative humidity (%)  \\\n",
       "0 2004-05-01 00:00:00  0.0                15.45                  51.74   \n",
       "1 2004-05-01 00:15:00  0.0                15.74                  49.51   \n",
       "2 2004-05-01 00:30:00  0.0                15.42                  52.07   \n",
       "\n",
       "   wind speed (m/s)  wind gust (m/s)  wind direction (deg)  rain (mm)  \\\n",
       "0              2.60             3.33                327.70        0.0   \n",
       "1              2.08             2.33                326.27        0.0   \n",
       "2              1.79             2.15                321.58        0.0   \n",
       "\n",
       "   fog tips  \n",
       "0       0.0  \n",
       "1       0.0  \n",
       "2       0.0  "
      ]
     },
     "execution_count": 85,
     "metadata": {},
     "output_type": "execute_result"
    }
   ],
   "source": [
    "#### Read in and prepare data ####\n",
    "df = pd.read_csv(src_fpath)\n",
    "df = df[list(var_dict.values())]\n",
    "df.columns = list(var_dict.keys())\n",
    "\n",
    "# Create fog tip var\n",
    "df['fog tips'] = df['fog'] / fog_tip_v\n",
    "\n",
    "# Create single datetime column\n",
    "if process_time == True:\n",
    "    df = agg_time(df)\n",
    "    \n",
    "# Subset to summer months\n",
    "if summer_subset == True:\n",
    "    df = subset_summer(df)\n",
    "\n",
    "df.head(3)"
   ]
  },
  {
   "cell_type": "markdown",
   "metadata": {},
   "source": [
    "### Missing Values\n",
    "Observations:\n",
    "1. Wind speed and leaf wetness in the original dataset are missing over half of their values.\n",
    "2. ~~Solar radiation is missing around a quarter of observations. ~~\n",
    "3. There are missing timestamps, which are likely completely empty observations. \n",
    "4. There's a very small number of missing observations for other variables. \n",
    "\n",
    "Actions:\n",
    "1. Drop missing observations\n"
   ]
  },
  {
   "cell_type": "code",
   "execution_count": 86,
   "metadata": {},
   "outputs": [],
   "source": [
    "df = df.dropna(subset=['time (PST)'])"
   ]
  },
  {
   "cell_type": "code",
   "execution_count": 87,
   "metadata": {},
   "outputs": [
    {
     "name": "stdout",
     "output_type": "stream",
     "text": [
      "<class 'pandas.core.frame.DataFrame'>\n",
      "RangeIndex: 87850 entries, 0 to 87849\n",
      "Data columns (total 9 columns):\n",
      " #   Column                 Non-Null Count  Dtype         \n",
      "---  ------                 --------------  -----         \n",
      " 0   time (PST)             87850 non-null  datetime64[ns]\n",
      " 1   fog                    87850 non-null  float64       \n",
      " 2   air temperature (C)    87849 non-null  float64       \n",
      " 3   relative humidity (%)  87849 non-null  float64       \n",
      " 4   wind speed (m/s)       87850 non-null  float64       \n",
      " 5   wind gust (m/s)        87849 non-null  float64       \n",
      " 6   wind direction (deg)   87850 non-null  float64       \n",
      " 7   rain (mm)              87850 non-null  float64       \n",
      " 8   fog tips               87850 non-null  float64       \n",
      "dtypes: datetime64[ns](1), float64(8)\n",
      "memory usage: 6.0 MB\n"
     ]
    }
   ],
   "source": [
    "df.info()"
   ]
  },
  {
   "cell_type": "code",
   "execution_count": 88,
   "metadata": {},
   "outputs": [
    {
     "data": {
      "text/plain": [
       "count                      1\n",
       "mean     2007-07-14 12:45:00\n",
       "min      2007-07-14 12:45:00\n",
       "25%      2007-07-14 12:45:00\n",
       "50%      2007-07-14 12:45:00\n",
       "75%      2007-07-14 12:45:00\n",
       "max      2007-07-14 12:45:00\n",
       "Name: time (PST), dtype: object"
      ]
     },
     "execution_count": 88,
     "metadata": {},
     "output_type": "execute_result"
    }
   ],
   "source": [
    "# When are values missing? \n",
    "missing = df.loc[df.isna().any(axis=1)]\n",
    "pd.to_datetime(missing['time (PST)']).describe()"
   ]
  },
  {
   "cell_type": "code",
   "execution_count": 89,
   "metadata": {},
   "outputs": [],
   "source": [
    "# Drop Missing\n",
    "df = df.dropna()"
   ]
  },
  {
   "cell_type": "markdown",
   "metadata": {},
   "source": [
    "### Univariate Distributions\n",
    "\n",
    "Check boxplots of each variable to assess data quality.\n",
    "\n",
    "Observations:\n",
    "1. Relative humidity is typically high at the site. \n",
    "2. Wind typically comes from the northwest, but has a higher spread than pozo.  \n",
    "3. Most fog observations are 0 - this skews the distribution.\n",
    "4. There are RH values above 100. \n",
    "5. ~~It looks like the pyranometer values are probably in w/m2~~ Not currently using pyranometer. \n",
    "\n",
    "Actions\n",
    "1. Set observations where RH is above 100 to 100. \n",
    "2. Check the observations where RH is 0. \n",
    "3. Look closer at the distribution of the fog values.\n",
    "4. ~~Correct solar radiation to represent kw/m2.~~ Not currently using pyranometer values. "
   ]
  },
  {
   "cell_type": "code",
   "execution_count": 90,
   "metadata": {},
   "outputs": [
    {
     "data": {
      "image/png": "[encoded data removed]",
      "text/plain": [
       "<Figure size 1211.11x600 with 8 Axes>"
      ]
     },
     "metadata": {},
     "output_type": "display_data"
    }
   ],
   "source": [
    "#### Quick plot of distributions ####\n",
    "# Create long form data\n",
    "value_col = df.columns.drop(['time (PST)']).tolist()\n",
    "df_long = pd.melt(df, id_vars=['time (PST)'], value_vars=value_col)\n",
    "\n",
    "# Plot boxplots\n",
    "sns.catplot(data=df_long, kind='box', col='variable', y='value',\n",
    "            sharey=False, height=3, col_wrap=4)\n",
    "plt.show()\n"
   ]
  },
  {
   "cell_type": "code",
   "execution_count": 91,
   "metadata": {},
   "outputs": [
    {
     "data": {
      "text/html": [
       "<div>\n",
       "<style scoped>\n",
       "    .dataframe tbody tr th:only-of-type {\n",
       "        vertical-align: middle;\n",
       "    }\n",
       "\n",
       "    .dataframe tbody tr th {\n",
       "        vertical-align: top;\n",
       "    }\n",
       "\n",
       "    .dataframe thead th {\n",
       "        text-align: right;\n",
       "    }\n",
       "</style>\n",
       "<table border=\"1\" class=\"dataframe\">\n",
       "  <thead>\n",
       "    <tr style=\"text-align: right;\">\n",
       "      <th></th>\n",
       "      <th>time (PST)</th>\n",
       "      <th>fog</th>\n",
       "      <th>air temperature (C)</th>\n",
       "      <th>relative humidity (%)</th>\n",
       "      <th>wind speed (m/s)</th>\n",
       "      <th>wind gust (m/s)</th>\n",
       "      <th>wind direction (deg)</th>\n",
       "      <th>rain (mm)</th>\n",
       "      <th>fog tips</th>\n",
       "    </tr>\n",
       "  </thead>\n",
       "  <tbody>\n",
       "    <tr>\n",
       "      <th>count</th>\n",
       "      <td>87849</td>\n",
       "      <td>87849.000000</td>\n",
       "      <td>87849.000000</td>\n",
       "      <td>87849.000000</td>\n",
       "      <td>87849.000000</td>\n",
       "      <td>87849.000000</td>\n",
       "      <td>87849.000000</td>\n",
       "      <td>87849.000000</td>\n",
       "      <td>87849.000000</td>\n",
       "    </tr>\n",
       "    <tr>\n",
       "      <th>mean</th>\n",
       "      <td>2007-01-14 18:14:59.907796480</td>\n",
       "      <td>0.642904</td>\n",
       "      <td>14.978022</td>\n",
       "      <td>81.867682</td>\n",
       "      <td>2.090345</td>\n",
       "      <td>2.646355</td>\n",
       "      <td>269.085467</td>\n",
       "      <td>0.000732</td>\n",
       "      <td>0.136382</td>\n",
       "    </tr>\n",
       "    <tr>\n",
       "      <th>min</th>\n",
       "      <td>2004-05-01 00:00:00</td>\n",
       "      <td>0.000000</td>\n",
       "      <td>6.540000</td>\n",
       "      <td>3.704000</td>\n",
       "      <td>0.000000</td>\n",
       "      <td>0.000000</td>\n",
       "      <td>0.000000</td>\n",
       "      <td>0.000000</td>\n",
       "      <td>0.000000</td>\n",
       "    </tr>\n",
       "    <tr>\n",
       "      <th>25%</th>\n",
       "      <td>2005-07-15 18:30:00</td>\n",
       "      <td>0.000000</td>\n",
       "      <td>11.790000</td>\n",
       "      <td>72.200000</td>\n",
       "      <td>0.849000</td>\n",
       "      <td>1.550000</td>\n",
       "      <td>277.200000</td>\n",
       "      <td>0.000000</td>\n",
       "      <td>0.000000</td>\n",
       "    </tr>\n",
       "    <tr>\n",
       "      <th>50%</th>\n",
       "      <td>2006-09-29 13:00:00</td>\n",
       "      <td>0.000000</td>\n",
       "      <td>13.700000</td>\n",
       "      <td>89.100000</td>\n",
       "      <td>2.062000</td>\n",
       "      <td>2.587000</td>\n",
       "      <td>321.300000</td>\n",
       "      <td>0.000000</td>\n",
       "      <td>0.000000</td>\n",
       "    </tr>\n",
       "    <tr>\n",
       "      <th>75%</th>\n",
       "      <td>2008-07-17 05:15:00</td>\n",
       "      <td>0.000000</td>\n",
       "      <td>17.340000</td>\n",
       "      <td>96.500000</td>\n",
       "      <td>3.160000</td>\n",
       "      <td>3.750000</td>\n",
       "      <td>325.900000</td>\n",
       "      <td>0.000000</td>\n",
       "      <td>0.000000</td>\n",
       "    </tr>\n",
       "    <tr>\n",
       "      <th>max</th>\n",
       "      <td>2009-09-30 23:45:00</td>\n",
       "      <td>174.420000</td>\n",
       "      <td>40.670000</td>\n",
       "      <td>104.700000</td>\n",
       "      <td>9.070000</td>\n",
       "      <td>10.700000</td>\n",
       "      <td>359.500000</td>\n",
       "      <td>3.200000</td>\n",
       "      <td>37.000424</td>\n",
       "    </tr>\n",
       "    <tr>\n",
       "      <th>std</th>\n",
       "      <td>NaN</td>\n",
       "      <td>2.933320</td>\n",
       "      <td>4.593746</td>\n",
       "      <td>19.124391</td>\n",
       "      <td>1.453493</td>\n",
       "      <td>1.556977</td>\n",
       "      <td>101.021629</td>\n",
       "      <td>0.025325</td>\n",
       "      <td>0.622257</td>\n",
       "    </tr>\n",
       "  </tbody>\n",
       "</table>\n",
       "</div>"
      ],
      "text/plain": [
       "                          time (PST)           fog  air temperature (C)  \\\n",
       "count                          87849  87849.000000         87849.000000   \n",
       "mean   2007-01-14 18:14:59.907796480      0.642904            14.978022   \n",
       "min              2004-05-01 00:00:00      0.000000             6.540000   \n",
       "25%              2005-07-15 18:30:00      0.000000            11.790000   \n",
       "50%              2006-09-29 13:00:00      0.000000            13.700000   \n",
       "75%              2008-07-17 05:15:00      0.000000            17.340000   \n",
       "max              2009-09-30 23:45:00    174.420000            40.670000   \n",
       "std                              NaN      2.933320             4.593746   \n",
       "\n",
       "       relative humidity (%)  wind speed (m/s)  wind gust (m/s)  \\\n",
       "count           87849.000000      87849.000000     87849.000000   \n",
       "mean               81.867682          2.090345         2.646355   \n",
       "min                 3.704000          0.000000         0.000000   \n",
       "25%                72.200000          0.849000         1.550000   \n",
       "50%                89.100000          2.062000         2.587000   \n",
       "75%                96.500000          3.160000         3.750000   \n",
       "max               104.700000          9.070000        10.700000   \n",
       "std                19.124391          1.453493         1.556977   \n",
       "\n",
       "       wind direction (deg)     rain (mm)      fog tips  \n",
       "count          87849.000000  87849.000000  87849.000000  \n",
       "mean             269.085467      0.000732      0.136382  \n",
       "min                0.000000      0.000000      0.000000  \n",
       "25%              277.200000      0.000000      0.000000  \n",
       "50%              321.300000      0.000000      0.000000  \n",
       "75%              325.900000      0.000000      0.000000  \n",
       "max              359.500000      3.200000     37.000424  \n",
       "std              101.021629      0.025325      0.622257  "
      ]
     },
     "execution_count": 91,
     "metadata": {},
     "output_type": "execute_result"
    }
   ],
   "source": [
    "#### Check the actual values ####\n",
    "df.describe()"
   ]
  },
  {
   "cell_type": "markdown",
   "metadata": {},
   "source": [
    "### Set RH > 100 to 100"
   ]
  },
  {
   "cell_type": "code",
   "execution_count": 92,
   "metadata": {},
   "outputs": [],
   "source": [
    "df['relative humidity (%)'] = df['relative humidity (%)'].apply(lambda x: 100 if x > 100 else x)"
   ]
  },
  {
   "cell_type": "markdown",
   "metadata": {},
   "source": [
    "### ~~Scale solar radiation~~\n",
    "~~Solar radiation is measured in w/m2 based on the data, scale it to be kw/m2.~~"
   ]
  },
  {
   "cell_type": "code",
   "execution_count": 93,
   "metadata": {},
   "outputs": [],
   "source": [
    "#df['solar radiation (kwm2)'] = df['solar radiation (kwm2)'] / 1000"
   ]
  },
  {
   "cell_type": "markdown",
   "metadata": {},
   "source": [
    "### Fog Check\n",
    "Given the focus of further analysis on fog at the site, further check the distribution of fog.\n",
    "\n",
    "Observations:\n",
    "1. Nothing of note, the distribution is as expected. \n"
   ]
  },
  {
   "cell_type": "code",
   "execution_count": 94,
   "metadata": {},
   "outputs": [
    {
     "data": {
      "image/png": "[encoded data removed]",
      "text/plain": [
       "<Figure size 640x480 with 1 Axes>"
      ]
     },
     "metadata": {},
     "output_type": "display_data"
    },
    {
     "data": {
      "image/png": "[encoded data removed]",
      "text/plain": [
       "<Figure size 640x480 with 1 Axes>"
      ]
     },
     "metadata": {},
     "output_type": "display_data"
    }
   ],
   "source": [
    "#### Check Distribution of Fog Values ####\n",
    "sns.histplot(df['fog tips'].loc[df['fog tips']>0],\n",
    "             binwidth=1)\n",
    "plt.title('Fog Tip Count Distribution')\n",
    "plt.show()\n",
    "\n",
    "# Check right tail of distribution\n",
    "sns.histplot(df['fog tips'].loc[df['fog tips']>10],\n",
    "             binwidth=1)\n",
    "plt.title('Fog Tip Count Distribution, Fog Tips > 10')\n",
    "plt.show()"
   ]
  },
  {
   "cell_type": "markdown",
   "metadata": {},
   "source": [
    "### Save out cleaned data"
   ]
  },
  {
   "cell_type": "code",
   "execution_count": 95,
   "metadata": {},
   "outputs": [
    {
     "name": "stdout",
     "output_type": "stream",
     "text": [
      "/Users/patmccornack/Documents/ucsb_fog_project/SCI_Fog_Project_Repo/data/02_clean/sauc-summer-clean-2003-2008.csv\n"
     ]
    }
   ],
   "source": [
    "#### Save out cleaned data ####\n",
    "df.to_csv(out_fpath)\n",
    "print(out_fpath)"
   ]
  }
 ],
 "metadata": {
  "kernelspec": {
   "display_name": "data-analysis",
   "language": "python",
   "name": "python3"
  },
  "language_info": {
   "codemirror_mode": {
    "name": "ipython",
    "version": 3
   },
   "file_extension": ".py",
   "mimetype": "text/x-python",
   "name": "python",
   "nbconvert_exporter": "python",
   "pygments_lexer": "ipython3",
   "version": "3.13.1"
  }
 },
 "nbformat": 4,
 "nbformat_minor": 2
}
