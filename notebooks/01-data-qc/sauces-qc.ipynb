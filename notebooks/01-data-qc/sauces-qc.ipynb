{
 "cells": [
  {
   "cell_type": "code",
   "execution_count": 1,
   "metadata": {},
   "outputs": [],
   "source": [
    "import os \n",
    "from pathlib import Path\n",
    "import numpy as np\n",
    "import pandas as pd\n",
    "\n",
    "import matplotlib.pyplot as plt\n",
    "import seaborn as sns\n",
    "\n",
    "sns.set_style('whitegrid')\n"
   ]
  },
  {
   "cell_type": "markdown",
   "metadata": {},
   "source": [
    "# About\n",
    "\n",
    "__Author:__ Pat McCornack\n",
    "\n",
    "__Date:__ December 2024\n",
    "\n",
    "__Description:__  \n",
    "This notebook preprocesses the data and does basic qc checks. This includes subsetting the variables, renaming the variables to a standard format, and taking the action specified in the finding summary. \n",
    "\n",
    "__Findings Summary:__  \n",
    "There's a number of observations with missing timestamps. The entire record is missing for each of these. There's a small number of observations missing for most variables. All missing observations were dropped. Leaf wetness is available, but was found to potentially be unreliable and is not included in this analysis. The same applies to solar radiation. Relative humidity values that were above 100% were set to 100%. \n",
    "\n",
    "__Outputs:__  \n",
    "Cleaned data is output to `./data/02-clean/sci-sauc-clean-2003-2008.csv`. "
   ]
  },
  {
   "cell_type": "code",
   "execution_count": 65,
   "metadata": {},
   "outputs": [],
   "source": [
    "def agg_time(df):\n",
    "    \"\"\"\n",
    "    Create datetime stamp using separate Month, Day, Hour, Miunute columns. \n",
    "\n",
    "    Parameters\n",
    "    ----------\n",
    "    df : pandas.DataFrame\n",
    "        DataFrame to create datetime column for. \n",
    "\n",
    "    Returns\n",
    "    -------\n",
    "    pandas.DataFrame\n",
    "        Dataframe with the new 'time (PST)' column, sorted by the 'time (PST)' column. \n",
    "\n",
    "    \"\"\"\n",
    "    times = []\n",
    "    for index, row in df.iterrows():\n",
    "        times.append(f\"{str(row['Year']).split('.')[0]}-{str(row['Month']).split('.')[0]}-{str(row['Day']).split('.')[0]} {str(row['Hour']).split('.')[0]}:{str(row['Minute']).split('.')[0]}:00\")\n",
    "\n",
    "    df['time (PST)'] = pd.to_datetime(times)\n",
    "    df = df.sort_values(by='time (PST)', ascending=True)\n",
    "\n",
    "    return df\n",
    "\n",
    "def subset_summer(df):\n",
    "    \"\"\"\n",
    "    Subset data to summer months (May-Sept). This is done because summer is the ecologically relevant period for fog. \n",
    "\n",
    "    Parameters\n",
    "    ----------\n",
    "    df : pandas.DataFrame\n",
    "        Dataframe to subset.\n",
    "    \n",
    "    Returns\n",
    "    -------\n",
    "    pandas.DataFrame\n",
    "        Dataframe subset to May 01 - September 30. \n",
    "    \"\"\"\n",
    "    df.set_index('time (PST)', inplace=True)\n",
    "    df = df[df.index.month.isin([5,6,7,8,9])]\n",
    "    df.reset_index(inplace=True)\n",
    "\n",
    "    return df"
   ]
  },
  {
   "cell_type": "markdown",
   "metadata": {},
   "source": [
    "## Data QC "
   ]
  },
  {
   "cell_type": "code",
   "execution_count": null,
   "metadata": {},
   "outputs": [],
   "source": [
    "# Specify parameters\n",
    "# Options\n",
    "process_time = True  # Does the data have a 'time (PST)' column already, or separate columns for 'month', 'day', etc. "
   ]
  },
  {
   "cell_type": "code",
   "execution_count": null,
   "metadata": {},
   "outputs": [
    {
     "data": {
      "text/plain": [
       "PosixPath('/Users/patmccornack/Documents/ucsb_fog_project/_repositories/sci-fog-analysis')"
      ]
     },
     "execution_count": 2,
     "metadata": {},
     "output_type": "execute_result"
    }
   ],
   "source": [
    "#### Specify Arguments ###\n",
    "fname1 = 'sci-sauc-2003-2010.csv'\n",
    "fname2 = 'sci-sauc-june-oct-2011.csv'\n",
    "\n",
    "root_dir = Path().resolve().parents[1]\n",
    "data_dir = root_dir / 'data'\n",
    "src_fpath1 = data_dir / '01-raw' / 'met-station' / fname1\n",
    "src_fpath2 = data_dir / '01-raw' / 'met-station' / fname2\n",
    "\n",
    "outfpath = data_dir / '02-clean' / f'{str(fname1).split('.')[0]}-clean.csv'\n"
   ]
  },
  {
   "cell_type": "code",
   "execution_count": null,
   "metadata": {},
   "outputs": [],
   "source": []
  },
  {
   "cell_type": "code",
   "execution_count": null,
   "metadata": {},
   "outputs": [],
   "source": []
  },
  {
   "cell_type": "code",
   "execution_count": null,
   "metadata": {},
   "outputs": [],
   "source": []
  },
  {
   "cell_type": "code",
   "execution_count": 67,
   "metadata": {},
   "outputs": [],
   "source": [
    "#### Specify Arguments ###\n",
    "# Source data paths\n",
    "src_dir = './data/01-raw/met-station/still-lab/'\n",
    "src_fname = 'sci-sauc-2003-2008.csv'\n",
    "src_fpath = os.path.join(src_dir, src_fname)\n",
    "\n",
    "# Out paths\n",
    "outdir = './data/02-clean/'\n",
    "out_fname = 'sci-sauc-clean-2003-2008.csv'\n",
    "out_fname_summer = 'sci-sauc-summer-clean-2003-2008.csv'  # If subset to summer months\n",
    "\n",
    "# Define variables\n",
    "var_dict = {\n",
    "    'time (PST)' : 'time (PST)',\n",
    "    'fog' :'Fog',\n",
    "    'air temperature (C)' : 'Temp',\n",
    "    'relative humidity (%)' : 'RH',\n",
    "    'wind speed (m/s)' : 'WS_MS_S_WVT',  # Has same values as 'WindSpd', but no missing observations\n",
    "    'wind gust (m/s)' : 'WS_MS_MAX',\n",
    "    'wind direction (deg)' : 'WindDir',\n",
    "    'rain (mm)' : 'Rain',  # Unsure about units\n",
    "    # 'solar radiation (kwm2)' :'Pyran_Avg',  # Data is suspect - 0s during day, nonzeros at night - plus missing many values\n",
    "    # 'leaf wetness (mv)' : 'LeafWet'  # Missing many values, leaving out. Unsure if values coded as 99999 are NA\n",
    "}\n",
    "\n",
    "# Fog tip value\n",
    "fog_tip_v = 4.714\n",
    "\n"
   ]
  },
  {
   "cell_type": "code",
   "execution_count": 68,
   "metadata": {},
   "outputs": [
    {
     "data": {
      "text/html": [
       "<div>\n",
       "<style scoped>\n",
       "    .dataframe tbody tr th:only-of-type {\n",
       "        vertical-align: middle;\n",
       "    }\n",
       "\n",
       "    .dataframe tbody tr th {\n",
       "        vertical-align: top;\n",
       "    }\n",
       "\n",
       "    .dataframe thead th {\n",
       "        text-align: right;\n",
       "    }\n",
       "</style>\n",
       "<table border=\"1\" class=\"dataframe\">\n",
       "  <thead>\n",
       "    <tr style=\"text-align: right;\">\n",
       "      <th></th>\n",
       "      <th>time (PST)</th>\n",
       "      <th>fog</th>\n",
       "      <th>air temperature (C)</th>\n",
       "      <th>relative humidity (%)</th>\n",
       "      <th>wind speed (m/s)</th>\n",
       "      <th>wind gust (m/s)</th>\n",
       "      <th>wind direction (deg)</th>\n",
       "      <th>rain (mm)</th>\n",
       "      <th>fog tips</th>\n",
       "    </tr>\n",
       "  </thead>\n",
       "  <tbody>\n",
       "    <tr>\n",
       "      <th>0</th>\n",
       "      <td>2003-12-19 16:00:00</td>\n",
       "      <td>0.0</td>\n",
       "      <td>15.53</td>\n",
       "      <td>27.54</td>\n",
       "      <td>0.63</td>\n",
       "      <td>0.95</td>\n",
       "      <td>92.21</td>\n",
       "      <td>0.0</td>\n",
       "      <td>0.0</td>\n",
       "    </tr>\n",
       "    <tr>\n",
       "      <th>1</th>\n",
       "      <td>2003-12-19 17:00:00</td>\n",
       "      <td>0.0</td>\n",
       "      <td>15.22</td>\n",
       "      <td>27.05</td>\n",
       "      <td>1.40</td>\n",
       "      <td>3.96</td>\n",
       "      <td>99.26</td>\n",
       "      <td>0.0</td>\n",
       "      <td>0.0</td>\n",
       "    </tr>\n",
       "    <tr>\n",
       "      <th>2</th>\n",
       "      <td>2003-12-19 18:00:00</td>\n",
       "      <td>0.0</td>\n",
       "      <td>14.68</td>\n",
       "      <td>32.86</td>\n",
       "      <td>2.07</td>\n",
       "      <td>3.75</td>\n",
       "      <td>140.33</td>\n",
       "      <td>0.0</td>\n",
       "      <td>0.0</td>\n",
       "    </tr>\n",
       "  </tbody>\n",
       "</table>\n",
       "</div>"
      ],
      "text/plain": [
       "           time (PST)  fog  air temperature (C)  relative humidity (%)  \\\n",
       "0 2003-12-19 16:00:00  0.0                15.53                  27.54   \n",
       "1 2003-12-19 17:00:00  0.0                15.22                  27.05   \n",
       "2 2003-12-19 18:00:00  0.0                14.68                  32.86   \n",
       "\n",
       "   wind speed (m/s)  wind gust (m/s)  wind direction (deg)  rain (mm)  \\\n",
       "0              0.63             0.95                 92.21        0.0   \n",
       "1              1.40             3.96                 99.26        0.0   \n",
       "2              2.07             3.75                140.33        0.0   \n",
       "\n",
       "   fog tips  \n",
       "0       0.0  \n",
       "1       0.0  \n",
       "2       0.0  "
      ]
     },
     "execution_count": 68,
     "metadata": {},
     "output_type": "execute_result"
    }
   ],
   "source": [
    "#### Read in and prepare data ####\n",
    "df = pd.read_csv(src_fpath)\n",
    "\n",
    "# Create single datetime column\n",
    "df = agg_time(df)\n",
    "\n",
    "# Subset and rename columns\n",
    "df = df[list(var_dict.values())]\n",
    "df.columns = list(var_dict.keys())\n",
    "\n",
    "# Create fog tip var\n",
    "df['fog tips'] = df['fog'] / fog_tip_v\n",
    "    \n",
    "# Subset to summer months\n",
    "if summer_subset == True:\n",
    "    df = subset_summer(df)\n",
    "\n",
    "df.head(3)"
   ]
  },
  {
   "cell_type": "markdown",
   "metadata": {},
   "source": [
    "### Missing Values\n",
    "Observations:\n",
    "1. ~~Leaf wetness is missing around a quarter of values~~ - no longer included in set of variables. \n",
    "2. ~~Solar radiation is missing around a quarter of observations.~~ - lo longer included in set of variables.\n",
    "3. There are missing timestamps, which are likely completely empty observations - Verified by inspecting csv. \n",
    "4. There's a small number of missing observations for most variables. \n",
    "\n",
    "Actions:\n",
    "1. Drop missing observations\n"
   ]
  },
  {
   "cell_type": "code",
   "execution_count": 69,
   "metadata": {},
   "outputs": [],
   "source": [
    "df.dropna(subset='time (PST)', inplace=True)"
   ]
  },
  {
   "cell_type": "code",
   "execution_count": 70,
   "metadata": {},
   "outputs": [
    {
     "name": "stdout",
     "output_type": "stream",
     "text": [
      "<class 'pandas.core.frame.DataFrame'>\n",
      "Index: 199751 entries, 0 to 40005\n",
      "Data columns (total 9 columns):\n",
      " #   Column                 Non-Null Count   Dtype         \n",
      "---  ------                 --------------   -----         \n",
      " 0   time (PST)             199751 non-null  datetime64[ns]\n",
      " 1   fog                    198566 non-null  float64       \n",
      " 2   air temperature (C)    198570 non-null  float64       \n",
      " 3   relative humidity (%)  198570 non-null  float64       \n",
      " 4   wind speed (m/s)       198566 non-null  float64       \n",
      " 5   wind gust (m/s)        198565 non-null  float64       \n",
      " 6   wind direction (deg)   198566 non-null  float64       \n",
      " 7   rain (mm)              198566 non-null  float64       \n",
      " 8   fog tips               198566 non-null  float64       \n",
      "dtypes: datetime64[ns](1), float64(8)\n",
      "memory usage: 15.2 MB\n"
     ]
    }
   ],
   "source": [
    "df.info()"
   ]
  },
  {
   "cell_type": "code",
   "execution_count": 71,
   "metadata": {},
   "outputs": [
    {
     "data": {
      "text/plain": [
       "count                             1186\n",
       "mean     2004-10-21 13:58:05.413153408\n",
       "min                2004-10-14 11:30:00\n",
       "25%                2004-10-17 14:03:45\n",
       "50%                2004-10-20 16:07:30\n",
       "75%                2004-10-23 18:11:15\n",
       "max                2007-07-14 12:45:00\n",
       "Name: time (PST), dtype: object"
      ]
     },
     "execution_count": 71,
     "metadata": {},
     "output_type": "execute_result"
    }
   ],
   "source": [
    "# When are values missing? \n",
    "missing = df.loc[df.isna().any(axis=1)]\n",
    "pd.to_datetime(missing['time (PST)']).describe()"
   ]
  },
  {
   "cell_type": "code",
   "execution_count": 72,
   "metadata": {},
   "outputs": [],
   "source": [
    "# Drop Missing\n",
    "df = df.dropna()"
   ]
  },
  {
   "cell_type": "markdown",
   "metadata": {},
   "source": [
    "### Univariate Distributions\n",
    "\n",
    "Check boxplots of each variable to assess data quality.\n",
    "\n",
    "Observations:\n",
    "1. Relative humidity is typically high at the site. \n",
    "2. Wind typically comes from the northwest, but has a higher spread than pozo.  \n",
    "3. Most fog observations are 0 - this skews the distribution.\n",
    "4. There are RH values above 100. \n",
    "5. ~~It looks like the pyranometer values are probably in w/m2~~ Not currently using pyranometer. \n",
    "\n",
    "Actions\n",
    "1. Set observations where RH is above 100 to 100. \n",
    "2. Check the observations where RH is 0. \n",
    "3. Look closer at the distribution of the fog values.\n",
    "4. ~~Correct solar radiation to represent kw/m2.~~ Not currently using pyranometer values. "
   ]
  },
  {
   "cell_type": "code",
   "execution_count": 73,
   "metadata": {},
   "outputs": [
    {
     "data": {
      "image/png": "[encoded data removed]",
      "text/plain": [
       "<Figure size 1211.11x600 with 8 Axes>"
      ]
     },
     "metadata": {},
     "output_type": "display_data"
    }
   ],
   "source": [
    "#### Quick plot of distributions ####\n",
    "# Create long form data\n",
    "value_col = df.columns.drop(['time (PST)']).tolist()\n",
    "df_long = pd.melt(df, id_vars=['time (PST)'], value_vars=value_col)\n",
    "\n",
    "# Plot boxplots\n",
    "sns.catplot(data=df_long, kind='box', col='variable', y='value',\n",
    "            sharey=False, height=3, col_wrap=4)\n",
    "plt.show()\n"
   ]
  },
  {
   "cell_type": "code",
   "execution_count": 74,
   "metadata": {},
   "outputs": [
    {
     "data": {
      "text/html": [
       "<div>\n",
       "<style scoped>\n",
       "    .dataframe tbody tr th:only-of-type {\n",
       "        vertical-align: middle;\n",
       "    }\n",
       "\n",
       "    .dataframe tbody tr th {\n",
       "        vertical-align: top;\n",
       "    }\n",
       "\n",
       "    .dataframe thead th {\n",
       "        text-align: right;\n",
       "    }\n",
       "</style>\n",
       "<table border=\"1\" class=\"dataframe\">\n",
       "  <thead>\n",
       "    <tr style=\"text-align: right;\">\n",
       "      <th></th>\n",
       "      <th>time (PST)</th>\n",
       "      <th>fog</th>\n",
       "      <th>air temperature (C)</th>\n",
       "      <th>relative humidity (%)</th>\n",
       "      <th>wind speed (m/s)</th>\n",
       "      <th>wind gust (m/s)</th>\n",
       "      <th>wind direction (deg)</th>\n",
       "      <th>rain (mm)</th>\n",
       "      <th>fog tips</th>\n",
       "    </tr>\n",
       "  </thead>\n",
       "  <tbody>\n",
       "    <tr>\n",
       "      <th>count</th>\n",
       "      <td>198565</td>\n",
       "      <td>198565.000000</td>\n",
       "      <td>198565.000000</td>\n",
       "      <td>198565.000000</td>\n",
       "      <td>198565.000000</td>\n",
       "      <td>198565.000000</td>\n",
       "      <td>198565.000000</td>\n",
       "      <td>198565.000000</td>\n",
       "      <td>198565.000000</td>\n",
       "    </tr>\n",
       "    <tr>\n",
       "      <th>mean</th>\n",
       "      <td>2007-02-19 20:33:04.627703296</td>\n",
       "      <td>0.969247</td>\n",
       "      <td>14.001261</td>\n",
       "      <td>70.533730</td>\n",
       "      <td>1.962423</td>\n",
       "      <td>2.560273</td>\n",
       "      <td>244.381957</td>\n",
       "      <td>0.006952</td>\n",
       "      <td>0.205610</td>\n",
       "    </tr>\n",
       "    <tr>\n",
       "      <th>min</th>\n",
       "      <td>2003-12-19 16:00:00</td>\n",
       "      <td>0.000000</td>\n",
       "      <td>3.100000</td>\n",
       "      <td>0.539000</td>\n",
       "      <td>0.000000</td>\n",
       "      <td>0.000000</td>\n",
       "      <td>0.000000</td>\n",
       "      <td>0.000000</td>\n",
       "      <td>0.000000</td>\n",
       "    </tr>\n",
       "    <tr>\n",
       "      <th>25%</th>\n",
       "      <td>2005-08-21 17:00:00</td>\n",
       "      <td>0.000000</td>\n",
       "      <td>10.630000</td>\n",
       "      <td>56.320000</td>\n",
       "      <td>0.480000</td>\n",
       "      <td>1.300000</td>\n",
       "      <td>152.400000</td>\n",
       "      <td>0.000000</td>\n",
       "      <td>0.000000</td>\n",
       "    </tr>\n",
       "    <tr>\n",
       "      <th>50%</th>\n",
       "      <td>2007-01-20 19:15:00</td>\n",
       "      <td>0.000000</td>\n",
       "      <td>12.790000</td>\n",
       "      <td>80.900000</td>\n",
       "      <td>1.892000</td>\n",
       "      <td>2.500000</td>\n",
       "      <td>319.430000</td>\n",
       "      <td>0.000000</td>\n",
       "      <td>0.000000</td>\n",
       "    </tr>\n",
       "    <tr>\n",
       "      <th>75%</th>\n",
       "      <td>2008-09-19 13:00:00</td>\n",
       "      <td>0.000000</td>\n",
       "      <td>16.440000</td>\n",
       "      <td>94.700000</td>\n",
       "      <td>3.040000</td>\n",
       "      <td>3.700000</td>\n",
       "      <td>325.500000</td>\n",
       "      <td>0.000000</td>\n",
       "      <td>0.000000</td>\n",
       "    </tr>\n",
       "    <tr>\n",
       "      <th>max</th>\n",
       "      <td>2010-02-18 15:15:00</td>\n",
       "      <td>386.550000</td>\n",
       "      <td>40.670000</td>\n",
       "      <td>104.700000</td>\n",
       "      <td>16.120000</td>\n",
       "      <td>20.450000</td>\n",
       "      <td>359.900000</td>\n",
       "      <td>11.000000</td>\n",
       "      <td>82.000424</td>\n",
       "    </tr>\n",
       "    <tr>\n",
       "      <th>std</th>\n",
       "      <td>NaN</td>\n",
       "      <td>7.674557</td>\n",
       "      <td>4.815383</td>\n",
       "      <td>29.321446</td>\n",
       "      <td>1.583593</td>\n",
       "      <td>1.791054</td>\n",
       "      <td>119.690907</td>\n",
       "      <td>0.095072</td>\n",
       "      <td>1.628035</td>\n",
       "    </tr>\n",
       "  </tbody>\n",
       "</table>\n",
       "</div>"
      ],
      "text/plain": [
       "                          time (PST)            fog  air temperature (C)  \\\n",
       "count                         198565  198565.000000        198565.000000   \n",
       "mean   2007-02-19 20:33:04.627703296       0.969247            14.001261   \n",
       "min              2003-12-19 16:00:00       0.000000             3.100000   \n",
       "25%              2005-08-21 17:00:00       0.000000            10.630000   \n",
       "50%              2007-01-20 19:15:00       0.000000            12.790000   \n",
       "75%              2008-09-19 13:00:00       0.000000            16.440000   \n",
       "max              2010-02-18 15:15:00     386.550000            40.670000   \n",
       "std                              NaN       7.674557             4.815383   \n",
       "\n",
       "       relative humidity (%)  wind speed (m/s)  wind gust (m/s)  \\\n",
       "count          198565.000000     198565.000000    198565.000000   \n",
       "mean               70.533730          1.962423         2.560273   \n",
       "min                 0.539000          0.000000         0.000000   \n",
       "25%                56.320000          0.480000         1.300000   \n",
       "50%                80.900000          1.892000         2.500000   \n",
       "75%                94.700000          3.040000         3.700000   \n",
       "max               104.700000         16.120000        20.450000   \n",
       "std                29.321446          1.583593         1.791054   \n",
       "\n",
       "       wind direction (deg)      rain (mm)       fog tips  \n",
       "count         198565.000000  198565.000000  198565.000000  \n",
       "mean             244.381957       0.006952       0.205610  \n",
       "min                0.000000       0.000000       0.000000  \n",
       "25%              152.400000       0.000000       0.000000  \n",
       "50%              319.430000       0.000000       0.000000  \n",
       "75%              325.500000       0.000000       0.000000  \n",
       "max              359.900000      11.000000      82.000424  \n",
       "std              119.690907       0.095072       1.628035  "
      ]
     },
     "execution_count": 74,
     "metadata": {},
     "output_type": "execute_result"
    }
   ],
   "source": [
    "#### Check the actual values ####\n",
    "df.describe()"
   ]
  },
  {
   "cell_type": "markdown",
   "metadata": {},
   "source": [
    "### Set RH > 100 to 100"
   ]
  },
  {
   "cell_type": "code",
   "execution_count": 75,
   "metadata": {},
   "outputs": [],
   "source": [
    "df['relative humidity (%)'] = df['relative humidity (%)'].apply(lambda x: 100 if x > 100 else x)"
   ]
  },
  {
   "cell_type": "markdown",
   "metadata": {},
   "source": [
    "### ~~Scale solar radiation~~\n",
    "~~Solar radiation is measured in w/m2 based on the data, scale it to be kw/m2.~~"
   ]
  },
  {
   "cell_type": "code",
   "execution_count": 76,
   "metadata": {},
   "outputs": [],
   "source": [
    "#df['solar radiation (kwm2)'] = df['solar radiation (kwm2)'] / 1000"
   ]
  },
  {
   "cell_type": "markdown",
   "metadata": {},
   "source": [
    "### Fog Check\n",
    "Given the focus of further analysis on fog at the site, further check the distribution of fog.\n",
    "\n",
    "Observations:\n",
    "1. Nothing of note, the distribution is as expected. \n"
   ]
  },
  {
   "cell_type": "code",
   "execution_count": 77,
   "metadata": {},
   "outputs": [
    {
     "data": {
      "image/png": "[encoded data removed]",
      "text/plain": [
       "<Figure size 640x480 with 1 Axes>"
      ]
     },
     "metadata": {},
     "output_type": "display_data"
    },
    {
     "data": {
      "image/png": "[encoded data removed]",
      "text/plain": [
       "<Figure size 640x480 with 1 Axes>"
      ]
     },
     "metadata": {},
     "output_type": "display_data"
    }
   ],
   "source": [
    "#### Check Distribution of Fog Values ####\n",
    "sns.histplot(df['fog tips'].loc[df['fog tips']>0],\n",
    "             binwidth=1)\n",
    "plt.title('Fog Tip Count Distribution')\n",
    "plt.show()\n",
    "\n",
    "# Check right tail of distribution\n",
    "sns.histplot(df['fog tips'].loc[df['fog tips']>10],\n",
    "             binwidth=1)\n",
    "plt.title('Fog Tip Count Distribution, Fog Tips > 10')\n",
    "plt.show()"
   ]
  },
  {
   "cell_type": "markdown",
   "metadata": {},
   "source": [
    "### Save out cleaned data"
   ]
  },
  {
   "cell_type": "code",
   "execution_count": 78,
   "metadata": {},
   "outputs": [
    {
     "name": "stdout",
     "output_type": "stream",
     "text": [
      "./data/02-clean/sci-sauc-summer-clean-2003-2008.csv\n"
     ]
    }
   ],
   "source": [
    "#### Save out cleaned data ####\n",
    "if summer_subset == True:\n",
    "    out_fpath = os.path.join(outdir, out_fname_summer)\n",
    "    df.to_csv(out_fpath)\n",
    "\n",
    "else:\n",
    "    out_fpath = os.path.join(outdir, out_fname)\n",
    "    df.to_csv(out_fpath)\n",
    "\n",
    "print(out_fpath)"
   ]
  }
 ],
 "metadata": {
  "kernelspec": {
   "display_name": "data-analysis",
   "language": "python",
   "name": "python3"
  },
  "language_info": {
   "codemirror_mode": {
    "name": "ipython",
    "version": 3
   },
   "file_extension": ".py",
   "mimetype": "text/x-python",
   "name": "python",
   "nbconvert_exporter": "python",
   "pygments_lexer": "ipython3",
   "version": "3.13.1"
  }
 },
 "nbformat": 4,
 "nbformat_minor": 2
}
