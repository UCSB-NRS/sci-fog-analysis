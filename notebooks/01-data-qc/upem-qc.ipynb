{
 "cells": [
  {
   "cell_type": "code",
   "execution_count": 6,
   "metadata": {},
   "outputs": [
    {
     "name": "stdout",
     "output_type": "stream",
     "text": [
      "/Users/patmccornack/Documents/ucsb_fog_project/_repositories/sci-fog-analysis\n"
     ]
    }
   ],
   "source": [
    "import os \n",
    "import numpy as np\n",
    "import pandas as pd\n",
    "\n",
    "import matplotlib.pyplot as plt\n",
    "import seaborn as sns\n",
    "\n",
    "sns.set_style('whitegrid')\n",
    "\n",
    "# Set up working directory - adjust this to where the repo is stored locally\n",
    "%cd '/Users/patmccornack/Documents/ucsb_fog_project/_repositories/sci-fog-analysis'"
   ]
  },
  {
   "cell_type": "markdown",
   "metadata": {},
   "source": [
    "# About\n",
    "\n",
    "__Author:__ Pat McCornack\n",
    "\n",
    "__Date:__ December 2024\n",
    "\n",
    "__Description:__  \n",
    "This notebook preprocesses the data and does basic qc checks. This includes subsetting the variables, renaming the variables to a standard format, and taking the action specified in the finding summary. \n",
    "\n",
    "__Findings Summary:__  \n",
    "Around 9% of observations are missing for rain/fog, with fewer missing for solar radiation. These were dropped. A single observation had a wind direction value greater than 360, this was dropped. \n",
    "\n",
    "__Outputs:__  \n",
    "Cleaned data is output to `./data/02_clean/upem-clean-2005-2010.csv`. "
   ]
  },
  {
   "cell_type": "code",
   "execution_count": 7,
   "metadata": {},
   "outputs": [],
   "source": [
    "def agg_time(df):\n",
    "    \"\"\"\n",
    "    Create datetime stamp using separate Month, Day, Hour, Miunute columns. \n",
    "\n",
    "    Parameters\n",
    "    ----------\n",
    "    df : pandas.DataFrame\n",
    "        DataFrame to create datetime column for. \n",
    "\n",
    "    Returns\n",
    "    -------\n",
    "    pandas.DataFrame\n",
    "        Dataframe with the new 'time (PST)' column, sorted by the 'time (PST)' column. \n",
    "\n",
    "    \"\"\"\n",
    "    times = []\n",
    "    for index, row in df.iterrows():\n",
    "        times.append(f\"{str(row['Year']).split('.')[0]}-{str(row['Month']).split('.')[0]}-{str(row['Day']).split('.')[0]} {str(row['Hour']).split('.')[0]}:{str(row['Minute']).split('.')[0]}:00\")\n",
    "\n",
    "    df['time (PST)'] = pd.to_datetime(times)\n",
    "    df = df.sort_values(by='time (PST)', ascending=True)\n",
    "\n",
    "    return df\n",
    "\n",
    "def subset_summer(df):\n",
    "    \"\"\"\n",
    "    Subset data to summer months (May-Sept). This is done because summer is the ecologically relevant period for fog. \n",
    "\n",
    "    Parameters\n",
    "    ----------\n",
    "    df : pandas.DataFrame\n",
    "        Dataframe to subset.\n",
    "    \n",
    "    Returns\n",
    "    -------\n",
    "    pandas.DataFrame\n",
    "        Dataframe subset to May 01 - September 30. \n",
    "    \"\"\"\n",
    "    df.set_index('time (PST)', inplace=True)\n",
    "    df = df[df.index.month.isin([5,6,7,8,9])]\n",
    "    df.reset_index(inplace=True)\n",
    "\n",
    "    return df"
   ]
  },
  {
   "cell_type": "markdown",
   "metadata": {},
   "source": [
    "## Data QC "
   ]
  },
  {
   "cell_type": "code",
   "execution_count": 8,
   "metadata": {},
   "outputs": [],
   "source": [
    "# Specify parameters\n",
    "# Options\n",
    "process_time = True  # Does the data have a 'time (PST)' column already, or separate columns for 'month', 'day', etc. \n",
    "summer_subset = False  # Subset to the summer months?"
   ]
  },
  {
   "cell_type": "code",
   "execution_count": 9,
   "metadata": {},
   "outputs": [],
   "source": [
    "#### Specify Arguments ###\n",
    "# Source data paths\n",
    "src_dir = './data/01-raw/met-station/still-lab/'\n",
    "src_fname = 'sci-upem-2005-2010.csv'\n",
    "src_fpath = os.path.join(src_dir, src_fname)\n",
    "\n",
    "# Out paths\n",
    "outdir = './data/02_clean/'\n",
    "out_fname = 'upem-clean-2005-2010.csv'\n",
    "out_fname_summer = 'upem-summer-clean-2005-2010.csv'\n",
    "\n",
    "# Define variables\n",
    "var_dict = {\n",
    "    'time (PST)' : 'time (PST)',\n",
    "    'fog' :'Fog_Vol_mL',\n",
    "    'air temperature (C)' : 'AirTC_Avg',\n",
    "    'relative humidity (%)' : 'RH_Avg',\n",
    "    'wind speed (m/s)' : 'WS_ms_Avg',\n",
    "    'wind gust (m/s)' : 'WS_ms_Max',\n",
    "    'wind direction (deg)' : 'WS_ms_WVc(2)',  # Not certain this is wind dir - see distribution\n",
    "    'rain (mm)' : 'Rain_Converted_mm',  # Unsure about units\n",
    "    'solar radiation (kwm2)' :'SlrkW_Avg'\n",
    "}\n",
    "\n",
    "# Fog tip value\n",
    "fog_tip_v = 3.7253\n",
    "\n",
    "# Options\n",
    "process_time = True\n",
    "summer_subset = False"
   ]
  },
  {
   "cell_type": "code",
   "execution_count": 10,
   "metadata": {},
   "outputs": [
    {
     "data": {
      "text/html": [
       "<div>\n",
       "<style scoped>\n",
       "    .dataframe tbody tr th:only-of-type {\n",
       "        vertical-align: middle;\n",
       "    }\n",
       "\n",
       "    .dataframe tbody tr th {\n",
       "        vertical-align: top;\n",
       "    }\n",
       "\n",
       "    .dataframe thead th {\n",
       "        text-align: right;\n",
       "    }\n",
       "</style>\n",
       "<table border=\"1\" class=\"dataframe\">\n",
       "  <thead>\n",
       "    <tr style=\"text-align: right;\">\n",
       "      <th></th>\n",
       "      <th>time (PST)</th>\n",
       "      <th>fog</th>\n",
       "      <th>air temperature (C)</th>\n",
       "      <th>relative humidity (%)</th>\n",
       "      <th>wind speed (m/s)</th>\n",
       "      <th>wind gust (m/s)</th>\n",
       "      <th>wind direction (deg)</th>\n",
       "      <th>rain (mm)</th>\n",
       "      <th>solar radiation (kwm2)</th>\n",
       "      <th>fog tips</th>\n",
       "    </tr>\n",
       "  </thead>\n",
       "  <tbody>\n",
       "    <tr>\n",
       "      <th>53189</th>\n",
       "      <td>2005-09-15 15:15:00</td>\n",
       "      <td>NaN</td>\n",
       "      <td>15.98</td>\n",
       "      <td>74.25</td>\n",
       "      <td>2.309</td>\n",
       "      <td>3.180</td>\n",
       "      <td>240.6</td>\n",
       "      <td>NaN</td>\n",
       "      <td>NaN</td>\n",
       "      <td>NaN</td>\n",
       "    </tr>\n",
       "    <tr>\n",
       "      <th>53190</th>\n",
       "      <td>2005-09-15 15:30:00</td>\n",
       "      <td>NaN</td>\n",
       "      <td>15.55</td>\n",
       "      <td>75.94</td>\n",
       "      <td>2.649</td>\n",
       "      <td>3.481</td>\n",
       "      <td>245.7</td>\n",
       "      <td>NaN</td>\n",
       "      <td>NaN</td>\n",
       "      <td>NaN</td>\n",
       "    </tr>\n",
       "    <tr>\n",
       "      <th>53191</th>\n",
       "      <td>2005-09-15 15:45:00</td>\n",
       "      <td>NaN</td>\n",
       "      <td>15.27</td>\n",
       "      <td>77.03</td>\n",
       "      <td>2.896</td>\n",
       "      <td>3.490</td>\n",
       "      <td>249.4</td>\n",
       "      <td>NaN</td>\n",
       "      <td>NaN</td>\n",
       "      <td>NaN</td>\n",
       "    </tr>\n",
       "  </tbody>\n",
       "</table>\n",
       "</div>"
      ],
      "text/plain": [
       "               time (PST)  fog  air temperature (C)  relative humidity (%)  \\\n",
       "53189 2005-09-15 15:15:00  NaN                15.98                  74.25   \n",
       "53190 2005-09-15 15:30:00  NaN                15.55                  75.94   \n",
       "53191 2005-09-15 15:45:00  NaN                15.27                  77.03   \n",
       "\n",
       "       wind speed (m/s)  wind gust (m/s)  wind direction (deg)  rain (mm)  \\\n",
       "53189             2.309            3.180                 240.6        NaN   \n",
       "53190             2.649            3.481                 245.7        NaN   \n",
       "53191             2.896            3.490                 249.4        NaN   \n",
       "\n",
       "       solar radiation (kwm2)  fog tips  \n",
       "53189                     NaN       NaN  \n",
       "53190                     NaN       NaN  \n",
       "53191                     NaN       NaN  "
      ]
     },
     "execution_count": 10,
     "metadata": {},
     "output_type": "execute_result"
    }
   ],
   "source": [
    "#### Read in and prepare data ####\n",
    "df = pd.read_csv(src_fpath)\n",
    "\n",
    "# Create single datetime column\n",
    "df = agg_time(df)\n",
    "\n",
    "# Subset and rename columns\n",
    "df = df[list(var_dict.values())]\n",
    "df.columns = list(var_dict.keys())\n",
    "\n",
    "# Create fog tip var\n",
    "df['fog tips'] = df['fog'] / fog_tip_v\n",
    "    \n",
    "# Subset to summer months\n",
    "if summer_subset == True:\n",
    "    df = subset_summer(df)\n",
    "\n",
    "df.head(3)"
   ]
  },
  {
   "cell_type": "markdown",
   "metadata": {},
   "source": [
    "### Missing Values\n",
    "Observations:\n",
    "1. Around 12k fog and rain observations are missing, fewer are missing for solar radiation. \n",
    "3. A small number of solar radiation observations are missing. \n",
    "4. The observations span a short period of time - 4 months from 09-2005 to 01-2006.\n",
    "\n",
    "Actions:\n",
    "1. Drop all missing observations.\n",
    "\n",
    "Notes: \n",
    "- Dropping all fog observations also dropped other missing observations. \n"
   ]
  },
  {
   "cell_type": "code",
   "execution_count": 11,
   "metadata": {},
   "outputs": [
    {
     "name": "stdout",
     "output_type": "stream",
     "text": [
      "<class 'pandas.core.frame.DataFrame'>\n",
      "Index: 137674 entries, 53189 to 137673\n",
      "Data columns (total 10 columns):\n",
      " #   Column                  Non-Null Count   Dtype         \n",
      "---  ------                  --------------   -----         \n",
      " 0   time (PST)              137674 non-null  datetime64[ns]\n",
      " 1   fog                     125186 non-null  float64       \n",
      " 2   air temperature (C)     137674 non-null  float64       \n",
      " 3   relative humidity (%)   137674 non-null  float64       \n",
      " 4   wind speed (m/s)        137674 non-null  float64       \n",
      " 5   wind gust (m/s)         137674 non-null  float64       \n",
      " 6   wind direction (deg)    137674 non-null  float64       \n",
      " 7   rain (mm)               125186 non-null  float64       \n",
      " 8   solar radiation (kwm2)  132118 non-null  float64       \n",
      " 9   fog tips                125186 non-null  float64       \n",
      "dtypes: datetime64[ns](1), float64(9)\n",
      "memory usage: 11.6 MB\n"
     ]
    }
   ],
   "source": [
    "df.info()"
   ]
  },
  {
   "cell_type": "code",
   "execution_count": 12,
   "metadata": {},
   "outputs": [
    {
     "data": {
      "text/plain": [
       "count                            12488\n",
       "mean     2005-11-23 10:48:17.469570816\n",
       "min                2005-09-15 15:15:00\n",
       "25%                2005-10-18 03:41:15\n",
       "50%                2005-11-26 11:37:30\n",
       "75%                2005-12-29 00:03:45\n",
       "max                2006-01-30 12:30:00\n",
       "Name: time (PST), dtype: object"
      ]
     },
     "execution_count": 12,
     "metadata": {},
     "output_type": "execute_result"
    }
   ],
   "source": [
    "# When are values missing? \n",
    "missing = df.loc[df.isna().any(axis=1)]\n",
    "pd.to_datetime(missing['time (PST)']).describe()"
   ]
  },
  {
   "cell_type": "code",
   "execution_count": 13,
   "metadata": {},
   "outputs": [
    {
     "name": "stdout",
     "output_type": "stream",
     "text": [
      "<class 'pandas.core.frame.DataFrame'>\n",
      "Index: 125186 entries, 2835 to 137673\n",
      "Data columns (total 10 columns):\n",
      " #   Column                  Non-Null Count   Dtype         \n",
      "---  ------                  --------------   -----         \n",
      " 0   time (PST)              125186 non-null  datetime64[ns]\n",
      " 1   fog                     125186 non-null  float64       \n",
      " 2   air temperature (C)     125186 non-null  float64       \n",
      " 3   relative humidity (%)   125186 non-null  float64       \n",
      " 4   wind speed (m/s)        125186 non-null  float64       \n",
      " 5   wind gust (m/s)         125186 non-null  float64       \n",
      " 6   wind direction (deg)    125186 non-null  float64       \n",
      " 7   rain (mm)               125186 non-null  float64       \n",
      " 8   solar radiation (kwm2)  125186 non-null  float64       \n",
      " 9   fog tips                125186 non-null  float64       \n",
      "dtypes: datetime64[ns](1), float64(9)\n",
      "memory usage: 10.5 MB\n"
     ]
    }
   ],
   "source": [
    "df.dropna(subset='fog', inplace=True)\n",
    "df.info()"
   ]
  },
  {
   "cell_type": "markdown",
   "metadata": {},
   "source": [
    "### Univariate Distributions\n",
    "\n",
    "Check boxplots of each variable to assess data quality.\n",
    "\n",
    "Observations:\n",
    "1. Relative humidity is typically high at the site. \n",
    "2. Wind typically comes from the northwest, but has a higher spread than pozo.  \n",
    "3. Most fog observations are 0 - this skews the distribution.\n",
    "4. There's a wind direction value of over 360\n",
    "\n",
    "Actions\n",
    "1. Remove the observation where wind direction > 360"
   ]
  },
  {
   "cell_type": "code",
   "execution_count": 14,
   "metadata": {},
   "outputs": [
    {
     "data": {
      "image/png": "[encoded data removed]",
      "text/plain": [
       "<Figure size 1211.11x900 with 9 Axes>"
      ]
     },
     "metadata": {},
     "output_type": "display_data"
    }
   ],
   "source": [
    "#### Quick plot of distributions ####\n",
    "# Create long form data\n",
    "value_col = df.columns.drop(['time (PST)']).tolist()\n",
    "df_long = pd.melt(df, id_vars=['time (PST)'], value_vars=value_col)\n",
    "\n",
    "# Plot boxplots\n",
    "sns.catplot(data=df_long, kind='box', col='variable', y='value',\n",
    "            sharey=False, height=3, col_wrap=4)\n",
    "plt.show()\n"
   ]
  },
  {
   "cell_type": "code",
   "execution_count": 15,
   "metadata": {},
   "outputs": [
    {
     "data": {
      "text/html": [
       "<div>\n",
       "<style scoped>\n",
       "    .dataframe tbody tr th:only-of-type {\n",
       "        vertical-align: middle;\n",
       "    }\n",
       "\n",
       "    .dataframe tbody tr th {\n",
       "        vertical-align: top;\n",
       "    }\n",
       "\n",
       "    .dataframe thead th {\n",
       "        text-align: right;\n",
       "    }\n",
       "</style>\n",
       "<table border=\"1\" class=\"dataframe\">\n",
       "  <thead>\n",
       "    <tr style=\"text-align: right;\">\n",
       "      <th></th>\n",
       "      <th>time (PST)</th>\n",
       "      <th>fog</th>\n",
       "      <th>air temperature (C)</th>\n",
       "      <th>relative humidity (%)</th>\n",
       "      <th>wind speed (m/s)</th>\n",
       "      <th>wind gust (m/s)</th>\n",
       "      <th>wind direction (deg)</th>\n",
       "      <th>rain (mm)</th>\n",
       "      <th>solar radiation (kwm2)</th>\n",
       "      <th>fog tips</th>\n",
       "    </tr>\n",
       "  </thead>\n",
       "  <tbody>\n",
       "    <tr>\n",
       "      <th>count</th>\n",
       "      <td>125186</td>\n",
       "      <td>125186.000000</td>\n",
       "      <td>125186.000000</td>\n",
       "      <td>125186.000000</td>\n",
       "      <td>125186.000000</td>\n",
       "      <td>125186.000000</td>\n",
       "      <td>125186.000000</td>\n",
       "      <td>125186.000000</td>\n",
       "      <td>125186.000000</td>\n",
       "      <td>125186.000000</td>\n",
       "    </tr>\n",
       "    <tr>\n",
       "      <th>mean</th>\n",
       "      <td>2008-03-06 12:31:02.108382976</td>\n",
       "      <td>0.487341</td>\n",
       "      <td>14.121991</td>\n",
       "      <td>68.259854</td>\n",
       "      <td>1.542205</td>\n",
       "      <td>2.136042</td>\n",
       "      <td>239.288857</td>\n",
       "      <td>0.015100</td>\n",
       "      <td>0.209880</td>\n",
       "      <td>0.130819</td>\n",
       "    </tr>\n",
       "    <tr>\n",
       "      <th>min</th>\n",
       "      <td>2006-01-30 13:00:00</td>\n",
       "      <td>0.000000</td>\n",
       "      <td>1.847000</td>\n",
       "      <td>3.014000</td>\n",
       "      <td>0.000000</td>\n",
       "      <td>0.000000</td>\n",
       "      <td>0.000000</td>\n",
       "      <td>0.000000</td>\n",
       "      <td>0.000000</td>\n",
       "      <td>0.000000</td>\n",
       "    </tr>\n",
       "    <tr>\n",
       "      <th>25%</th>\n",
       "      <td>2007-01-16 18:33:45</td>\n",
       "      <td>0.000000</td>\n",
       "      <td>9.652500</td>\n",
       "      <td>45.530000</td>\n",
       "      <td>0.677000</td>\n",
       "      <td>1.134000</td>\n",
       "      <td>155.000000</td>\n",
       "      <td>0.000000</td>\n",
       "      <td>0.000000</td>\n",
       "      <td>0.000000</td>\n",
       "    </tr>\n",
       "    <tr>\n",
       "      <th>50%</th>\n",
       "      <td>2008-05-07 11:37:30</td>\n",
       "      <td>0.000000</td>\n",
       "      <td>12.830000</td>\n",
       "      <td>75.570000</td>\n",
       "      <td>1.294000</td>\n",
       "      <td>1.872000</td>\n",
       "      <td>285.600000</td>\n",
       "      <td>0.000000</td>\n",
       "      <td>0.006000</td>\n",
       "      <td>0.000000</td>\n",
       "    </tr>\n",
       "    <tr>\n",
       "      <th>75%</th>\n",
       "      <td>2009-03-29 11:41:15</td>\n",
       "      <td>0.000000</td>\n",
       "      <td>17.920000</td>\n",
       "      <td>95.800000</td>\n",
       "      <td>2.139000</td>\n",
       "      <td>2.834000</td>\n",
       "      <td>305.100000</td>\n",
       "      <td>0.000000</td>\n",
       "      <td>0.401000</td>\n",
       "      <td>0.000000</td>\n",
       "    </tr>\n",
       "    <tr>\n",
       "      <th>max</th>\n",
       "      <td>2010-02-18 11:45:00</td>\n",
       "      <td>182.540000</td>\n",
       "      <td>40.180000</td>\n",
       "      <td>100.000000</td>\n",
       "      <td>7.583000</td>\n",
       "      <td>9.750000</td>\n",
       "      <td>677.000000</td>\n",
       "      <td>11.245000</td>\n",
       "      <td>1.105000</td>\n",
       "      <td>49.000081</td>\n",
       "    </tr>\n",
       "    <tr>\n",
       "      <th>std</th>\n",
       "      <td>NaN</td>\n",
       "      <td>3.002636</td>\n",
       "      <td>5.779619</td>\n",
       "      <td>28.692206</td>\n",
       "      <td>1.129139</td>\n",
       "      <td>1.328249</td>\n",
       "      <td>93.697301</td>\n",
       "      <td>0.160924</td>\n",
       "      <td>0.299534</td>\n",
       "      <td>0.806012</td>\n",
       "    </tr>\n",
       "  </tbody>\n",
       "</table>\n",
       "</div>"
      ],
      "text/plain": [
       "                          time (PST)            fog  air temperature (C)  \\\n",
       "count                         125186  125186.000000        125186.000000   \n",
       "mean   2008-03-06 12:31:02.108382976       0.487341            14.121991   \n",
       "min              2006-01-30 13:00:00       0.000000             1.847000   \n",
       "25%              2007-01-16 18:33:45       0.000000             9.652500   \n",
       "50%              2008-05-07 11:37:30       0.000000            12.830000   \n",
       "75%              2009-03-29 11:41:15       0.000000            17.920000   \n",
       "max              2010-02-18 11:45:00     182.540000            40.180000   \n",
       "std                              NaN       3.002636             5.779619   \n",
       "\n",
       "       relative humidity (%)  wind speed (m/s)  wind gust (m/s)  \\\n",
       "count          125186.000000     125186.000000    125186.000000   \n",
       "mean               68.259854          1.542205         2.136042   \n",
       "min                 3.014000          0.000000         0.000000   \n",
       "25%                45.530000          0.677000         1.134000   \n",
       "50%                75.570000          1.294000         1.872000   \n",
       "75%                95.800000          2.139000         2.834000   \n",
       "max               100.000000          7.583000         9.750000   \n",
       "std                28.692206          1.129139         1.328249   \n",
       "\n",
       "       wind direction (deg)      rain (mm)  solar radiation (kwm2)  \\\n",
       "count         125186.000000  125186.000000           125186.000000   \n",
       "mean             239.288857       0.015100                0.209880   \n",
       "min                0.000000       0.000000                0.000000   \n",
       "25%              155.000000       0.000000                0.000000   \n",
       "50%              285.600000       0.000000                0.006000   \n",
       "75%              305.100000       0.000000                0.401000   \n",
       "max              677.000000      11.245000                1.105000   \n",
       "std               93.697301       0.160924                0.299534   \n",
       "\n",
       "            fog tips  \n",
       "count  125186.000000  \n",
       "mean        0.130819  \n",
       "min         0.000000  \n",
       "25%         0.000000  \n",
       "50%         0.000000  \n",
       "75%         0.000000  \n",
       "max        49.000081  \n",
       "std         0.806012  "
      ]
     },
     "execution_count": 15,
     "metadata": {},
     "output_type": "execute_result"
    }
   ],
   "source": [
    "#### Check the actual values ####\n",
    "df.describe()"
   ]
  },
  {
   "cell_type": "markdown",
   "metadata": {},
   "source": [
    "### Remove wind direction outlier"
   ]
  },
  {
   "cell_type": "code",
   "execution_count": 16,
   "metadata": {},
   "outputs": [
    {
     "data": {
      "text/plain": [
       "count    125185.000000\n",
       "mean        239.285361\n",
       "std          93.689508\n",
       "min           0.000000\n",
       "25%         155.000000\n",
       "50%         285.600000\n",
       "75%         305.100000\n",
       "max         360.000000\n",
       "Name: wind direction (deg), dtype: float64"
      ]
     },
     "execution_count": 16,
     "metadata": {},
     "output_type": "execute_result"
    }
   ],
   "source": [
    "ind = df.loc[df['wind direction (deg)'] > 360].index\n",
    "df.drop(ind, axis=0, inplace=True)\n",
    "df['wind direction (deg)'].describe()"
   ]
  },
  {
   "cell_type": "markdown",
   "metadata": {},
   "source": [
    "### Fog Check\n",
    "Given the focus of further analysis on fog at the site, further check the distribution of fog.\n",
    "\n",
    "Note that prior knowledge indicates there's bycatch of rain in the winter, which inflates some of the fog measurements. Further analyses typically focus on summer data as that is the most ecologically relevant time period, which negates this issue. "
   ]
  },
  {
   "cell_type": "code",
   "execution_count": 17,
   "metadata": {},
   "outputs": [
    {
     "data": {
      "image/png": "[encoded data removed]",
      "text/plain": [
       "<Figure size 640x480 with 1 Axes>"
      ]
     },
     "metadata": {},
     "output_type": "display_data"
    },
    {
     "data": {
      "image/png": "[encoded data removed]",
      "text/plain": [
       "<Figure size 640x480 with 1 Axes>"
      ]
     },
     "metadata": {},
     "output_type": "display_data"
    }
   ],
   "source": [
    "#### Check Distribution of Fog Values ####\n",
    "sns.histplot(df['fog tips'].loc[df['fog tips']>0],\n",
    "             binwidth=1)\n",
    "plt.title('Fog Tip Count Distribution')\n",
    "plt.show()\n",
    "\n",
    "# Check right tail of distribution\n",
    "sns.histplot(df['fog tips'].loc[df['fog tips']>10],\n",
    "             binwidth=1)\n",
    "plt.title('Fog Tip Count Distribution, Fog Tips > 10')\n",
    "plt.show()"
   ]
  },
  {
   "cell_type": "markdown",
   "metadata": {},
   "source": [
    "### Save out cleaned data"
   ]
  },
  {
   "cell_type": "code",
   "execution_count": 18,
   "metadata": {},
   "outputs": [
    {
     "name": "stdout",
     "output_type": "stream",
     "text": [
      "./data/02_clean/upem-clean-2005-2010.csv\n"
     ]
    }
   ],
   "source": [
    "#### Save out cleaned data ####\n",
    "if summer_subset == True:\n",
    "    out_fpath = os.path.join(outdir, out_fname_summer)\n",
    "    #df.to_csv(out_fpath)\n",
    "\n",
    "else:\n",
    "    out_fpath = os.path.join(outdir, out_fname)\n",
    "   # df.to_csv(out_fpath)\n",
    "\n",
    "print(out_fpath)"
   ]
  }
 ],
 "metadata": {
  "kernelspec": {
   "display_name": "data-analysis",
   "language": "python",
   "name": "python3"
  },
  "language_info": {
   "codemirror_mode": {
    "name": "ipython",
    "version": 3
   },
   "file_extension": ".py",
   "mimetype": "text/x-python",
   "name": "python",
   "nbconvert_exporter": "python",
   "pygments_lexer": "ipython3",
   "version": "3.13.1"
  }
 },
 "nbformat": 4,
 "nbformat_minor": 2
}
